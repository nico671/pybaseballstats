{
 "cells": [
  {
   "cell_type": "markdown",
   "metadata": {},
   "source": [
    "# Bat Tracking Leaderboard"
   ]
  },
  {
   "cell_type": "code",
   "execution_count": null,
   "metadata": {},
   "outputs": [],
   "source": [
    "BAT_TRACKING_URL = \"https://baseballsavant.mlb.com/leaderboard/bat-tracking?attackZone=&batSide=&contactType=&count=&dateStart={start_dt}&dateEnd={end_dt}&gameType=&groupBy=&isHardHit=&minSwings=q&minGroupSwings=1&pitchHand=&pitchType=&seasonStart=&seasonEnd=&team=&type={pitcher_batter}&csv=true\""
   ]
  },
  {
   "cell_type": "code",
   "execution_count": null,
   "metadata": {},
   "outputs": [],
   "source": [
    "import requests\n",
    "import polars as pl"
   ]
  },
  {
   "cell_type": "code",
   "execution_count": null,
   "metadata": {},
   "outputs": [],
   "source": [
    "start_dt = \"2024-04-01\"\n",
    "end_dt = \"2024-04-30\"\n",
    "pitcher_batter = \"batter\"\n"
   ]
  },
  {
   "cell_type": "code",
   "execution_count": null,
   "metadata": {},
   "outputs": [],
   "source": [
    "data = requests.get(\n",
    "    BAT_TRACKING_URL.format(\n",
    "        start_dt=start_dt, end_dt=end_dt, pitcher_batter=pitcher_batter\n",
    "    )\n",
    ")\n",
    "data.content"
   ]
  },
  {
   "cell_type": "code",
   "execution_count": null,
   "metadata": {},
   "outputs": [],
   "source": [
    "df = pl.read_csv(data.content)"
   ]
  },
  {
   "cell_type": "code",
   "execution_count": null,
   "metadata": {},
   "outputs": [],
   "source": [
    "df"
   ]
  },
  {
   "cell_type": "code",
   "execution_count": null,
   "metadata": {},
   "outputs": [],
   "source": [
    "EXIT_VELO_BARRELS_URL = \"https://baseballsavant.mlb.com/leaderboard/statcast?type={pitcher_batter}&year={year}&position=&team=&min=q&sort=barrels_per_pa&sortDir=desc&csv=true\""
   ]
  },
  {
   "cell_type": "code",
   "execution_count": null,
   "metadata": {},
   "outputs": [],
   "source": [
    "pitcher_batter = \"pitcher\"\n",
    "year = 2024"
   ]
  },
  {
   "cell_type": "code",
   "execution_count": null,
   "metadata": {},
   "outputs": [],
   "source": [
    "df = pl.read_csv(\n",
    "    requests.get(\n",
    "        EXIT_VELO_BARRELS_URL.format(pitcher_batter=pitcher_batter, year=year)\n",
    "    ).content\n",
    ")"
   ]
  },
  {
   "cell_type": "code",
   "execution_count": null,
   "metadata": {},
   "outputs": [],
   "source": [
    "df"
   ]
  },
  {
   "cell_type": "markdown",
   "metadata": {},
   "source": [
    "# Expected Stats"
   ]
  },
  {
   "cell_type": "code",
   "execution_count": null,
   "metadata": {},
   "outputs": [],
   "source": [
    "EXPECTED_STATS_URL = \"https://baseballsavant.mlb.com/leaderboard/expected_statistics?type={pitcher_batter}&year={year}&position=&team=&filterType=bip&min=q&csv=true\""
   ]
  },
  {
   "cell_type": "code",
   "execution_count": null,
   "metadata": {},
   "outputs": [],
   "source": [
    "df = pl.read_csv(\n",
    "    requests.get(EXPECTED_STATS_URL.format(pitcher_batter=\"batter\", year=year)).content,\n",
    "    truncate_ragged_lines=True,\n",
    ")\n",
    "df.head()"
   ]
  },
  {
   "cell_type": "markdown",
   "metadata": {},
   "source": [
    "# Pitch Arsenal Stats"
   ]
  },
  {
   "cell_type": "code",
   "execution_count": null,
   "metadata": {},
   "outputs": [],
   "source": [
    "PITCH_ARSENAL_URL = \"https://baseballsavant.mlb.com/leaderboard/pitch-arsenal-stats?type={pitcher_batter}&pitchType=&year={year}&team=&min=150&csv=true\""
   ]
  },
  {
   "cell_type": "code",
   "execution_count": null,
   "metadata": {},
   "outputs": [],
   "source": [
    "df = pl.read_csv(\n",
    "    requests.get(PITCH_ARSENAL_URL.format(pitcher_batter=\"pitcher\", year=year)).content,\n",
    "    truncate_ragged_lines=True,\n",
    ")\n",
    "df.head()"
   ]
  },
  {
   "cell_type": "markdown",
   "metadata": {},
   "source": [
    "# pitching active spin"
   ]
  },
  {
   "cell_type": "code",
   "execution_count": null,
   "metadata": {},
   "outputs": [],
   "source": [
    "PITCHING_ACTIVE_SPIN_URL = \"https://baseballsavant.mlb.com/leaderboard/active-spin?year={year}_spin-based&min=50&hand=&csv=true\""
   ]
  },
  {
   "cell_type": "code",
   "execution_count": null,
   "metadata": {},
   "outputs": [],
   "source": [
    "df = pl.read_csv(\n",
    "    requests.get(PITCHING_ACTIVE_SPIN_URL.format(year=year)).content,\n",
    "    truncate_ragged_lines=True,\n",
    ")\n",
    "df.head()"
   ]
  },
  {
   "cell_type": "markdown",
   "metadata": {},
   "source": [
    "# pitching arm angle"
   ]
  },
  {
   "cell_type": "code",
   "execution_count": null,
   "metadata": {},
   "outputs": [],
   "source": [
    "PITCHING_ARM_ANGLE_URL = \"https://baseballsavant.mlb.com/leaderboard/pitcher-arm-angles?batSide=&dateStart={start_dt}&dateEnd={end_dt}&gameType=R%7CF%7CD%7CL%7CW&groupBy=&min=q&minGroupPitches=1&perspective=back&pitchHand=&pitchType=&season={season}&size=small&sort=ascending&team=&csv=true\""
   ]
  },
  {
   "cell_type": "code",
   "execution_count": null,
   "metadata": {},
   "outputs": [],
   "source": [
    "df = pl.read_csv(\n",
    "    requests.get(\n",
    "        PITCHING_ARM_ANGLE_URL.format(start_dt=start_dt, end_dt=end_dt, season=\"\")\n",
    "    ).content,\n",
    "    truncate_ragged_lines=True,\n",
    ")\n",
    "df"
   ]
  },
  {
   "cell_type": "markdown",
   "metadata": {},
   "source": [
    "# arm strength\n"
   ]
  },
  {
   "cell_type": "code",
   "execution_count": null,
   "metadata": {},
   "outputs": [],
   "source": [
    "ARM_STRENGTH_URL = \"https://baseballsavant.mlb.com/leaderboard/arm-strength?type=player&year={year}&minThrows=50&pos=&team=&csv=true\""
   ]
  },
  {
   "cell_type": "code",
   "execution_count": null,
   "metadata": {},
   "outputs": [],
   "source": [
    "arm_strength = pl.read_csv(\n",
    "    requests.get(ARM_STRENGTH_URL.format(year=year)).content, truncate_ragged_lines=True\n",
    ").drop(\"team_name\")\n",
    "arm_strength"
   ]
  },
  {
   "cell_type": "markdown",
   "metadata": {},
   "source": [
    "# arm value stats"
   ]
  },
  {
   "cell_type": "code",
   "execution_count": null,
   "metadata": {},
   "outputs": [],
   "source": [
    "ARM_VALUE_URL = \"https://baseballsavant.mlb.com/leaderboard/baserunning?game_type=All&n=top&key_base_out=All&season_end={end_year}&season_start={start_year}&split=no&team=&type=Fld&with_team_only=1&csv=true\""
   ]
  },
  {
   "cell_type": "code",
   "execution_count": null,
   "metadata": {},
   "outputs": [],
   "source": [
    "arm_value = pl.read_csv(\n",
    "    requests.get(ARM_VALUE_URL.format(start_year=2024, end_year=2024)).content,\n",
    "    truncate_ragged_lines=True,\n",
    ")\n",
    "arm_value"
   ]
  },
  {
   "cell_type": "markdown",
   "metadata": {},
   "source": [
    "# catch probability"
   ]
  },
  {
   "cell_type": "code",
   "execution_count": null,
   "metadata": {},
   "outputs": [],
   "source": [
    "CATCH_PROBABILITY_URL = \"https://baseballsavant.mlb.com/leaderboard/catch_probability?type=player&min=q&year={year}&total=5&sort=2&sortDir=desc&csv=true\""
   ]
  },
  {
   "cell_type": "code",
   "execution_count": null,
   "metadata": {},
   "outputs": [],
   "source": [
    "catch_prob = pl.read_csv(\n",
    "    requests.get(CATCH_PROBABILITY_URL.format(year=year)).content,\n",
    "    truncate_ragged_lines=True,\n",
    ")\n",
    "catch_prob"
   ]
  },
  {
   "cell_type": "markdown",
   "metadata": {},
   "source": [
    "# directional oaa   "
   ]
  },
  {
   "cell_type": "code",
   "execution_count": null,
   "metadata": {},
   "outputs": [],
   "source": [
    "DIRECTIONAL_OAA_URL = \"https://baseballsavant.mlb.com/directional_outs_above_average?year={year}&min=q&team=&csv=true\""
   ]
  },
  {
   "cell_type": "code",
   "execution_count": null,
   "metadata": {},
   "outputs": [],
   "source": [
    "directional_oaa = pl.read_csv(\n",
    "    requests.get(DIRECTIONAL_OAA_URL.format(year=year)).content,\n",
    "    truncate_ragged_lines=True,\n",
    ")\n",
    "directional_oaa"
   ]
  },
  {
   "cell_type": "markdown",
   "metadata": {},
   "source": [
    "# outfield jump"
   ]
  },
  {
   "cell_type": "code",
   "execution_count": null,
   "metadata": {},
   "outputs": [],
   "source": [
    "OUTFIELD_JUMP_URL = \"https://baseballsavant.mlb.com/leaderboard/outfield_jump?year={year}&min=q&csv=true\""
   ]
  },
  {
   "cell_type": "code",
   "execution_count": null,
   "metadata": {},
   "outputs": [],
   "source": [
    "outfield_jump = pl.read_csv(requests.get(OUTFIELD_JUMP_URL.format(year=year)).content)\n",
    "outfield_jump"
   ]
  },
  {
   "cell_type": "markdown",
   "metadata": {},
   "source": [
    "# catcher fielding all joined"
   ]
  },
  {
   "cell_type": "code",
   "execution_count": null,
   "metadata": {},
   "outputs": [],
   "source": [
    "# for catcher blocking need to figure out how players=643376-2024-111 is generated\n",
    "# catcher blocking available from 2018 onwards\n",
    "CATCHER_BLOCKING_URL = \"https://baseballsavant.mlb.com/leaderboard/catcher-blocking?game_type=All&n={min_pitches}&season_end={end_season}&season_start={start_season}&split={split}&team=&type=Cat&with_team_only=1&sortColumn=diff_runner_pbwp&sortDirection=desc&players=643376-2024-111&selected_idx=0&csv=true\"\n",
    "# for catchher framing will need to loop through, get data from start season to end season and maybe average because its not a season range\n",
    "# catcher framing available from 2015 onwards\n",
    "CATCHER_FRAMING_URL = \"https://baseballsavant.mlb.com/catcher_framing?year={year}&team=&min={min_pitches}&type=catcher&sort=4%2C1&csv=true\"\n",
    "# catcher pop time available from 2015 onwards\n",
    "CATCHER_POP_TIME_URL = \"https://baseballsavant.mlb.com/leaderboard/poptime?year={year}&team=&min2b=5&min3b=0&csv=true\"\n",
    "# catcher throwing available from 2016 onwards\n",
    "CATCHER_THROWING_URL = \"https://baseballsavant.mlb.com/leaderboard/catcher-throwing?game_type=All&n=q&season_end={end_season}&season_start={start_season}&split=no&team=&type=Cat&with_team_only=1&target_base=All&csv=true\""
   ]
  },
  {
   "cell_type": "markdown",
   "metadata": {},
   "source": [
    "### needed options\n",
    "- start_year (some dont have this so have to loop between and maybe average?)\n",
    "- end_year\n",
    "- min_pitches"
   ]
  },
  {
   "cell_type": "code",
   "execution_count": null,
   "metadata": {},
   "outputs": [],
   "source": [
    "start_year = 2023\n",
    "end_year = 2024\n",
    "min_pitches = \"q\""
   ]
  },
  {
   "cell_type": "code",
   "execution_count": null,
   "metadata": {},
   "outputs": [],
   "source": [
    "df_list = []\n",
    "for year in range(start_year, end_year + 1):\n",
    "    catcher_blocking = pl.read_csv(\n",
    "        requests.get(\n",
    "            CATCHER_BLOCKING_URL.format(\n",
    "                min_pitches=min_pitches,\n",
    "                start_season=year,\n",
    "                end_season=year,\n",
    "                split=\"no\",\n",
    "            )\n",
    "        ).content,\n",
    "        truncate_ragged_lines=True,\n",
    "    )\n",
    "    catcher_blocking = catcher_blocking.with_columns(\n",
    "        [\n",
    "            pl.col(\"player_id\").cast(pl.Int32).alias(\"player_id\"),\n",
    "        ]\n",
    "    )\n",
    "    catcher_framing = pl.read_csv(\n",
    "        requests.get(\n",
    "            CATCHER_FRAMING_URL.format(year=year, min_pitches=min_pitches)\n",
    "        ).content,\n",
    "        truncate_ragged_lines=True,\n",
    "    ).filter(pl.col(\"player_id\") != \"\")\n",
    "    catcher_framing = catcher_framing.with_columns(\n",
    "        [\n",
    "            pl.col(\"player_id\").cast(pl.Int32).alias(\"player_id\"),\n",
    "        ]\n",
    "    )\n",
    "    catcher_pop_time = pl.read_csv(\n",
    "        requests.get(CATCHER_POP_TIME_URL.format(year=year)).content,\n",
    "        truncate_ragged_lines=True,\n",
    "    )\n",
    "    catcher_pop_time = catcher_pop_time.with_columns(\n",
    "        [\n",
    "            pl.col(\"player_id\").cast(pl.Int32).alias(\"player_id\"),\n",
    "        ]\n",
    "    )\n",
    "    catcher_throwing = pl.read_csv(\n",
    "        requests.get(\n",
    "            CATCHER_THROWING_URL.format(start_season=year, end_season=year)\n",
    "        ).content,\n",
    "        truncate_ragged_lines=True,\n",
    "    )\n",
    "\n",
    "    catcher_throwing = catcher_throwing.with_columns(\n",
    "        [\n",
    "            pl.col(\"player_id\").cast(pl.Int32).alias(\"player_id\"),\n",
    "        ]\n",
    "    )\n",
    "    df = catcher_blocking.join(catcher_framing, on=\"player_id\", how=\"inner\")\n",
    "    df = df.join(\n",
    "        catcher_pop_time, left_on=\"player_name\", right_on=\"catcher\", how=\"inner\"\n",
    "    )\n",
    "    df = df.join(catcher_throwing, on=\"player_id\", how=\"inner\")\n",
    "    df = df.drop(\n",
    "        [\n",
    "            \"start_year\",\n",
    "            \"end_year\",\n",
    "            \"last_name\",\n",
    "            \"first_name\",\n",
    "            \"year\",\n",
    "            \"player_id_right\",\n",
    "            \"player_name_right\",\n",
    "            \"team_name_right\",\n",
    "            \"start_year_right\",\n",
    "            \"end_year_right\",\n",
    "        ]\n",
    "    )\n",
    "    df_list.append(df)\n"
   ]
  },
  {
   "cell_type": "code",
   "execution_count": null,
   "metadata": {},
   "outputs": [],
   "source": [
    "print(df_list)"
   ]
  },
  {
   "cell_type": "code",
   "execution_count": null,
   "metadata": {},
   "outputs": [],
   "source": [
    "concatted = pl.concat(df_list)\n",
    "concatted"
   ]
  },
  {
   "cell_type": "code",
   "execution_count": null,
   "metadata": {},
   "outputs": [],
   "source": [
    "import polars.selectors as cs"
   ]
  },
  {
   "cell_type": "code",
   "execution_count": null,
   "metadata": {},
   "outputs": [],
   "source": [
    "aggregated_df = concatted.group_by(\"player_id\").agg(\n",
    "    pl.col(\"player_name\").first().alias(\"player_name\"),\n",
    "    pl.col(\"team_name\").unique().alias(\"team_name\"),\n",
    "    cs.numeric().exclude(\"player_id\").mean(),\n",
    ")"
   ]
  },
  {
   "cell_type": "code",
   "execution_count": null,
   "metadata": {},
   "outputs": [],
   "source": [
    "aggregated_df"
   ]
  },
  {
   "cell_type": "markdown",
   "metadata": {},
   "source": [
    "# statcast sprint speed"
   ]
  },
  {
   "cell_type": "code",
   "execution_count": null,
   "metadata": {},
   "outputs": [],
   "source": [
    "STATCAST_SPRINT_SPEED_URL = \"https://baseballsavant.mlb.com/leaderboard/sprint_speed?min_season={start_season}&max_season={end_season}&position=&team=&min=10&csv=true\""
   ]
  },
  {
   "cell_type": "code",
   "execution_count": null,
   "metadata": {},
   "outputs": [],
   "source": [
    "sprint_speed_df = pl.read_csv(\n",
    "    requests.get(\n",
    "        STATCAST_SPRINT_SPEED_URL.format(start_season=start_year, end_season=end_year)\n",
    "    ).content,\n",
    "    truncate_ragged_lines=True,\n",
    ")\n",
    "sprint_speed_df"
   ]
  }
 ],
 "metadata": {
  "kernelspec": {
   "display_name": ".venv",
   "language": "python",
   "name": "python3"
  },
  "language_info": {
   "codemirror_mode": {
    "name": "ipython",
    "version": 3
   },
   "file_extension": ".py",
   "mimetype": "text/x-python",
   "name": "python",
   "nbconvert_exporter": "python",
   "pygments_lexer": "ipython3",
   "version": "3.13.0"
  }
 },
 "nbformat": 4,
 "nbformat_minor": 2
}
