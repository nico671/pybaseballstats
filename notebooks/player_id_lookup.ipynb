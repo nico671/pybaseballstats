{
 "cells": [
  {
   "cell_type": "code",
   "execution_count": 5,
   "metadata": {},
   "outputs": [],
   "source": [
    "test_url = \"https://raw.githubusercontent.com/chadwickbureau/register/refs/heads/master/data/people-0.csv\""
   ]
  },
  {
   "cell_type": "code",
   "execution_count": 14,
   "metadata": {},
   "outputs": [
    {
     "data": {
      "text/html": [
       "<div><style>\n",
       ".dataframe > thead > tr,\n",
       ".dataframe > tbody > tr {\n",
       "  text-align: right;\n",
       "  white-space: pre-wrap;\n",
       "}\n",
       "</style>\n",
       "<small>shape: (9, 11)</small><table border=\"1\" class=\"dataframe\"><thead><tr><th>statistic</th><th>key_person</th><th>key_uuid</th><th>key_mlbam</th><th>key_retro</th><th>key_bbref</th><th>key_bbref_minors</th><th>name_last</th><th>name_first</th><th>name_given</th><th>name_suffix</th></tr><tr><td>str</td><td>str</td><td>str</td><td>f64</td><td>str</td><td>str</td><td>str</td><td>str</td><td>str</td><td>str</td><td>str</td></tr></thead><tbody><tr><td>&quot;count&quot;</td><td>&quot;31037&quot;</td><td>&quot;31037&quot;</td><td>7498.0</td><td>&quot;1621&quot;</td><td>&quot;1508&quot;</td><td>&quot;31019&quot;</td><td>&quot;31037&quot;</td><td>&quot;28982&quot;</td><td>&quot;28982&quot;</td><td>&quot;285&quot;</td></tr><tr><td>&quot;null_count&quot;</td><td>&quot;0&quot;</td><td>&quot;0&quot;</td><td>23539.0</td><td>&quot;29416&quot;</td><td>&quot;29529&quot;</td><td>&quot;18&quot;</td><td>&quot;0&quot;</td><td>&quot;2055&quot;</td><td>&quot;2055&quot;</td><td>&quot;30752&quot;</td></tr><tr><td>&quot;mean&quot;</td><td>null</td><td>null</td><td>537576.130301</td><td>null</td><td>null</td><td>null</td><td>null</td><td>null</td><td>null</td><td>null</td></tr><tr><td>&quot;std&quot;</td><td>null</td><td>null</td><td>201795.051487</td><td>null</td><td>null</td><td>null</td><td>null</td><td>null</td><td>null</td><td>null</td></tr><tr><td>&quot;min&quot;</td><td>&quot;000007d9&quot;</td><td>&quot;000007d9-a2b6-47fd-bc61-e582f1…</td><td>110014.0</td><td>&quot;abboo101&quot;</td><td>&quot;abbotod01&quot;</td><td>&quot;aaron-000kev&quot;</td><td>&quot;Aaron&quot;</td><td>&quot;A.&quot;</td><td>&quot;A.&quot;</td><td>&quot;David Armstrong&quot;</td></tr><tr><td>&quot;25%&quot;</td><td>null</td><td>null</td><td>450698.0</td><td>null</td><td>null</td><td>null</td><td>null</td><td>null</td><td>null</td><td>null</td></tr><tr><td>&quot;50%&quot;</td><td>null</td><td>null</td><td>559139.0</td><td>null</td><td>null</td><td>null</td><td>null</td><td>null</td><td>null</td><td>null</td></tr><tr><td>&quot;75%&quot;</td><td>null</td><td>null</td><td>682010.0</td><td>null</td><td>null</td><td>null</td><td>null</td><td>null</td><td>null</td><td>null</td></tr><tr><td>&quot;max&quot;</td><td>&quot;0fffc8a8&quot;</td><td>&quot;0fffc8a8-631e-4101-aa6a-00faad…</td><td>831173.0</td><td>&quot;zumaj001&quot;</td><td>&quot;zumayjo01&quot;</td><td>&quot;zyburt000zac&quot;</td><td>&quot;Ávila&quot;</td><td>&quot;Ángel&quot;</td><td>&quot;Ángel Rubén&quot;</td><td>&quot;Sr.&quot;</td></tr></tbody></table></div>"
      ],
      "text/plain": [
       "shape: (9, 11)\n",
       "┌───────────┬───────────┬───────────┬───────────┬───┬───────────┬───────────┬───────────┬──────────┐\n",
       "│ statistic ┆ key_perso ┆ key_uuid  ┆ key_mlbam ┆ … ┆ name_last ┆ name_firs ┆ name_give ┆ name_suf │\n",
       "│ ---       ┆ n         ┆ ---       ┆ ---       ┆   ┆ ---       ┆ t         ┆ n         ┆ fix      │\n",
       "│ str       ┆ ---       ┆ str       ┆ f64       ┆   ┆ str       ┆ ---       ┆ ---       ┆ ---      │\n",
       "│           ┆ str       ┆           ┆           ┆   ┆           ┆ str       ┆ str       ┆ str      │\n",
       "╞═══════════╪═══════════╪═══════════╪═══════════╪═══╪═══════════╪═══════════╪═══════════╪══════════╡\n",
       "│ count     ┆ 31037     ┆ 31037     ┆ 7498.0    ┆ … ┆ 31037     ┆ 28982     ┆ 28982     ┆ 285      │\n",
       "│ null_coun ┆ 0         ┆ 0         ┆ 23539.0   ┆ … ┆ 0         ┆ 2055      ┆ 2055      ┆ 30752    │\n",
       "│ t         ┆           ┆           ┆           ┆   ┆           ┆           ┆           ┆          │\n",
       "│ mean      ┆ null      ┆ null      ┆ 537576.13 ┆ … ┆ null      ┆ null      ┆ null      ┆ null     │\n",
       "│           ┆           ┆           ┆ 0301      ┆   ┆           ┆           ┆           ┆          │\n",
       "│ std       ┆ null      ┆ null      ┆ 201795.05 ┆ … ┆ null      ┆ null      ┆ null      ┆ null     │\n",
       "│           ┆           ┆           ┆ 1487      ┆   ┆           ┆           ┆           ┆          │\n",
       "│ min       ┆ 000007d9  ┆ 000007d9- ┆ 110014.0  ┆ … ┆ Aaron     ┆ A.        ┆ A.        ┆ David    │\n",
       "│           ┆           ┆ a2b6-47fd ┆           ┆   ┆           ┆           ┆           ┆ Armstron │\n",
       "│           ┆           ┆ -bc61-e58 ┆           ┆   ┆           ┆           ┆           ┆ g        │\n",
       "│           ┆           ┆ 2f1…      ┆           ┆   ┆           ┆           ┆           ┆          │\n",
       "│ 25%       ┆ null      ┆ null      ┆ 450698.0  ┆ … ┆ null      ┆ null      ┆ null      ┆ null     │\n",
       "│ 50%       ┆ null      ┆ null      ┆ 559139.0  ┆ … ┆ null      ┆ null      ┆ null      ┆ null     │\n",
       "│ 75%       ┆ null      ┆ null      ┆ 682010.0  ┆ … ┆ null      ┆ null      ┆ null      ┆ null     │\n",
       "│ max       ┆ 0fffc8a8  ┆ 0fffc8a8- ┆ 831173.0  ┆ … ┆ Ávila     ┆ Ángel     ┆ Ángel     ┆ Sr.      │\n",
       "│           ┆           ┆ 631e-4101 ┆           ┆   ┆           ┆           ┆ Rubén     ┆          │\n",
       "│           ┆           ┆ -aa6a-00f ┆           ┆   ┆           ┆           ┆           ┆          │\n",
       "│           ┆           ┆ aad…      ┆           ┆   ┆           ┆           ┆           ┆          │\n",
       "└───────────┴───────────┴───────────┴───────────┴───┴───────────┴───────────┴───────────┴──────────┘"
      ]
     },
     "execution_count": 14,
     "metadata": {},
     "output_type": "execute_result"
    }
   ],
   "source": [
    "import requests\n",
    "import polars as pl\n",
    "\n",
    "data = requests.get(test_url).content\n",
    "df = pl.read_csv(data, truncate_ragged_lines=True)\n",
    "\n",
    "df = df.select(\n",
    "    pl.col(\n",
    "        [\n",
    "            \"key_person\",\n",
    "            \"key_uuid\",\n",
    "            \"key_mlbam\",\n",
    "            \"key_retro\",\n",
    "            \"key_bbref\",\n",
    "            \"key_bbref_minors\",\n",
    "            \"name_last\",\n",
    "            \"name_first\",\n",
    "            \"name_given\",\n",
    "            \"name_suffix\",\n",
    "        ]\n",
    "    )\n",
    ")\n",
    "df.describe()"
   ]
  },
  {
   "cell_type": "code",
   "execution_count": null,
   "metadata": {},
   "outputs": [],
   "source": [
    "\"\""
   ]
  }
 ],
 "metadata": {
  "kernelspec": {
   "display_name": ".venv",
   "language": "python",
   "name": "python3"
  },
  "language_info": {
   "codemirror_mode": {
    "name": "ipython",
    "version": 3
   },
   "file_extension": ".py",
   "mimetype": "text/x-python",
   "name": "python",
   "nbconvert_exporter": "python",
   "pygments_lexer": "ipython3",
   "version": "3.13.0"
  }
 },
 "nbformat": 4,
 "nbformat_minor": 2
}
