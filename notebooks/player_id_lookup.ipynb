{
 "cells": [
  {
   "cell_type": "code",
   "execution_count": null,
   "metadata": {},
   "outputs": [],
   "source": [
    "test_url = \"https://raw.githubusercontent.com/chadwickbureau/register/refs/heads/master/data/people-0.csv\""
   ]
  },
  {
   "cell_type": "code",
   "execution_count": null,
   "metadata": {},
   "outputs": [],
   "source": [
    "import requests\n",
    "import polars as pl\n",
    "\n",
    "data = requests.get(test_url).content\n",
    "df = pl.read_csv(data, truncate_ragged_lines=True)\n",
    "\n",
    "df = df.select(\n",
    "    pl.col(\n",
    "        [\n",
    "            \"key_person\",\n",
    "            \"key_uuid\",\n",
    "            \"key_mlbam\",\n",
    "            \"key_retro\",\n",
    "            \"key_bbref\",\n",
    "            \"key_bbref_minors\",\n",
    "            \"name_last\",\n",
    "            \"name_first\",\n",
    "            \"name_given\",\n",
    "            \"name_suffix\",\n",
    "        ]\n",
    "    )\n",
    ")\n",
    "df.describe()"
   ]
  },
  {
   "cell_type": "code",
   "execution_count": null,
   "metadata": {},
   "outputs": [],
   "source": [
    "\"\""
   ]
  }
 ],
 "metadata": {
  "kernelspec": {
   "display_name": ".venv",
   "language": "python",
   "name": "python3"
  },
  "language_info": {
   "codemirror_mode": {
    "name": "ipython",
    "version": 3
   },
   "file_extension": ".py",
   "mimetype": "text/x-python",
   "name": "python",
   "nbconvert_exporter": "python",
   "pygments_lexer": "ipython3",
   "version": "3.13.0"
  }
 },
 "nbformat": 4,
 "nbformat_minor": 2
}
