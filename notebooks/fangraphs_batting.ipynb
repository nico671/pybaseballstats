{
 "cells": [
  {
   "cell_type": "code",
   "execution_count": null,
   "metadata": {},
   "outputs": [],
   "source": [
    "import polars as pl\n",
    "import requests\n",
    "from bs4 import BeautifulSoup\n",
    "\n",
    "pl.Config.set_tbl_cols(100000)"
   ]
  },
  {
   "cell_type": "code",
   "execution_count": null,
   "metadata": {},
   "outputs": [],
   "source": [
    "url = \"https://www.fangraphs.com/leaders/major-league?pos={pos}&stats=bat&lg={league}&qual={qual}&type={stat_type}&season={end_season}&season1={start_season}&ind=0&startdate={start_date}&enddate={end_date}&month=0&team=0&pagenum=1&pageitems=2000000000\"\n",
    "\n",
    "# pos options: c, 1b,2b,3b, ss, lf, cf, rf, dh, of, p, all\n",
    "# qual options: y, n\n",
    "# league options: \"\", \"al\", \"nl\"\n",
    "# start date, end date are strings in the format \"yyyy-mm-dd\"\n",
    "# stat options: 8 (dashboard), 0 (standard), 1 (advanced), 2 (batted ball), 3 (win_probability), 6 (value), 23 (+stats),24 (statcast), 48 (violations)"
   ]
  },
  {
   "cell_type": "code",
   "execution_count": null,
   "metadata": {},
   "outputs": [],
   "source": [
    "def get_table_data(\n",
    "    stat_type, pos, league, start_date, end_date, qual, start_season, end_season\n",
    "):\n",
    "    # Assuming `cont` contains the HTML content\n",
    "    cont = requests.get(\n",
    "        url.format(\n",
    "            pos=pos,\n",
    "            league=league,\n",
    "            stat_type=stat_type,\n",
    "            start_season=start_season,\n",
    "            end_season=end_season,\n",
    "            qual=qual,\n",
    "            start_date=start_date,\n",
    "            end_date=end_date,\n",
    "        )\n",
    "    ).content.decode(\"utf-8\")\n",
    "\n",
    "    # Parse the HTML content with BeautifulSoup\n",
    "    soup = BeautifulSoup(cont, \"html.parser\")\n",
    "\n",
    "    # Find the main table using the provided CSS selector\n",
    "    main_table = soup.select_one(\n",
    "        \"#content > div.leaders-major_leaders-major__table__hcmbm > div.fg-data-grid.table-type > div.table-wrapper-outer > div > div.table-scroll > table\"\n",
    "    )\n",
    "\n",
    "    # Find the table header\n",
    "    thead = main_table.find(\"thead\")\n",
    "\n",
    "    # Extract column names from the data-col-id attribute of the <th> elements, excluding \"divider\"\n",
    "    headers = [\n",
    "        th[\"data-col-id\"]\n",
    "        for th in thead.find_all(\"th\")\n",
    "        if \"data-col-id\" in th.attrs and th[\"data-col-id\"] != \"divider\"\n",
    "    ]\n",
    "\n",
    "    # Find the table body within the main table\n",
    "    tbody = main_table.find(\"tbody\")\n",
    "\n",
    "    # Initialize a list to store the extracted data\n",
    "    data = []\n",
    "\n",
    "    # Iterate over each row in the table body\n",
    "    for row in tbody.find_all(\"tr\"):\n",
    "        row_data = {header: None for header in headers}  # Initialize with None\n",
    "        for cell in row.find_all(\"td\"):\n",
    "            col_id = cell.get(\"data-col-id\")\n",
    "\n",
    "            if col_id and col_id != \"divider\":\n",
    "                if cell.find(\"a\"):\n",
    "                    row_data[col_id] = cell.find(\"a\").text\n",
    "                elif cell.find(\"span\"):\n",
    "                    row_data[col_id] = cell.find(\"span\").text\n",
    "                else:\n",
    "                    text = cell.text.strip().replace(\"%\", \"\")\n",
    "                    if text == \"\":\n",
    "                        row_data[col_id] = None\n",
    "                    else:\n",
    "                        try:\n",
    "                            row_data[col_id] = float(text) if \".\" in text else int(text)\n",
    "                        except ValueError:\n",
    "                            row_data[col_id] = text\n",
    "                        except Exception as e:\n",
    "                            print(e)\n",
    "                            print(cell.attrs[\"data-col-id\"])\n",
    "                            row_data[col_id] = text\n",
    "        # Print row_data for debugging\n",
    "        data.append(row_data)\n",
    "\n",
    "    # Create a Polars DataFrame from the extracted data\n",
    "    df = pl.DataFrame(data, infer_schema_length=None)\n",
    "    return df"
   ]
  },
  {
   "cell_type": "code",
   "execution_count": null,
   "metadata": {},
   "outputs": [],
   "source": [
    "# Define the available stat types as an Enum\n",
    "from enum import Enum\n",
    "\n",
    "\n",
    "class FangraphsBattingStatType(Enum):\n",
    "    DASHBOARD = 8\n",
    "    STANDARD = 0\n",
    "    ADVANCED = 1\n",
    "    BATTED_BALL = 2\n",
    "    WIN_PROBABILITY = 3\n",
    "    VALUE = 6\n",
    "    PLUS_STATS = 23\n",
    "    STATCAST = 24\n",
    "    VIOLATIONS = 48\n",
    "    SPORTS_INFO_PITCH_TYPE = 4\n",
    "    SPORTS_INFO_PITCH_VALUE = 7\n",
    "    SPORTS_INFO_PLATE_DISCIPLINE = 5\n",
    "    STATCAST_PITCH_TYPE = 9\n",
    "    STATCAST_VELO = 10\n",
    "    STATCAST_H_MOVEMENT = 11\n",
    "    STATCAST_V_MOVEMENT = 12\n",
    "    STATCAST_PITCH_TYPE_VALUE = 13\n",
    "    STATCAST_PITCH_TYPE_VALUE_PER_100 = 14\n",
    "    STATCAST_PLATE_DISCIPLINE = 15"
   ]
  },
  {
   "cell_type": "code",
   "execution_count": null,
   "metadata": {},
   "outputs": [],
   "source": [
    "stat_types = {}\n",
    "for stat_type in FangraphsBattingStatType:\n",
    "    stat_types[stat_type] = stat_type.value"
   ]
  },
  {
   "cell_type": "code",
   "execution_count": null,
   "metadata": {},
   "outputs": [],
   "source": [
    "df_list = []\n",
    "for stat_type in stat_types:\n",
    "    print(f\"Fetching data for {stat_type}...\")\n",
    "    df = get_table_data(\n",
    "        stat_types[stat_type], \"all\", \"\", \"2024-04-01\", \"2024-05-01\", \"y\", \"\", \"\"\n",
    "    )\n",
    "    if df is not None:\n",
    "        print(f\"Data fetched for {stat_type}\")\n",
    "        df_list.append(df)\n",
    "    else:\n",
    "        print(f\"Warning: No data returned for {stat_type}\")"
   ]
  },
  {
   "cell_type": "code",
   "execution_count": null,
   "metadata": {},
   "outputs": [],
   "source": [
    "from polars import selectors as cs\n",
    "\n",
    "df = df_list[0]\n",
    "len_cols = len(df.columns)\n",
    "for i in range(1, len(df_list)):\n",
    "    len_cols += len(df_list[i].columns)\n",
    "    df = df.join(df_list[i], on=\"Name\", how=\"inner\").select(\n",
    "        ~cs.ends_with(\"_right\"),\n",
    "    )\n",
    "df.head()"
   ]
  },
  {
   "cell_type": "code",
   "execution_count": null,
   "metadata": {},
   "outputs": [],
   "source": [
    "df.shape"
   ]
  }
 ],
 "metadata": {
  "kernelspec": {
   "display_name": ".venv",
   "language": "python",
   "name": "python3"
  },
  "language_info": {
   "codemirror_mode": {
    "name": "ipython",
    "version": 3
   },
   "file_extension": ".py",
   "mimetype": "text/x-python",
   "name": "python",
   "nbconvert_exporter": "python",
   "pygments_lexer": "ipython3",
   "version": "3.13.0"
  }
 },
 "nbformat": 4,
 "nbformat_minor": 2
}
