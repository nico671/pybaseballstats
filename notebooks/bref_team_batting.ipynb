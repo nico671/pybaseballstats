{
 "cells": [
  {
   "cell_type": "markdown",
   "metadata": {},
   "source": [
    "# bref team batting"
   ]
  },
  {
   "cell_type": "code",
   "execution_count": 8,
   "metadata": {},
   "outputs": [],
   "source": [
    "BREF_TEAM_BATTING_URL = \"https://www.baseball-reference.com/teams/{team}/{year}-batting.shtml#players_standard_batting\""
   ]
  },
  {
   "cell_type": "code",
   "execution_count": 9,
   "metadata": {},
   "outputs": [],
   "source": [
    "import requests\n",
    "from bs4 import BeautifulSoup\n",
    "import polars as pl"
   ]
  },
  {
   "cell_type": "code",
   "execution_count": 10,
   "metadata": {},
   "outputs": [],
   "source": [
    "data = requests.get(test_url).text\n",
    "soup = BeautifulSoup(data, \"html.parser\")\n",
    "tables = soup.find_all(\"table\")\n"
   ]
  },
  {
   "cell_type": "code",
   "execution_count": 11,
   "metadata": {},
   "outputs": [
    {
     "name": "stdout",
     "output_type": "stream",
     "text": [
      "['Player', 'Age', 'Pos', 'WAR', 'G', 'PA', 'AB', 'R', 'H', '2B', '3B', 'HR', 'RBI', 'SB', 'CS', 'BB', 'SO', 'BA', 'OBP', 'SLG', 'OPS', 'OPS+', 'rOBA', 'Rbat+', 'TB', 'GIDP', 'HBP', 'SH', 'SF', 'IBB', 'AllPos', 'Awards']\n",
      "[['Gabriel Moreno', '24', 'C', '2.6', '97', '351', '305', '39', '81', '18', '1', '5', '45', '3', '1', '41', '52', '.266', '.353', '.380', '.734', '105', '.327', '105', '116', '10', '2', '0', '3', '1', '2H/5', ''], ['Christian Walker', '33', '1B', '2.6', '130', '552', '479', '72', '120', '26', '0', '26', '84', '2', '2', '55', '133', '.251', '.335', '.468', '.803', '121', '.340', '116', '224', '12', '10', '0', '8', '4', '*3/H', 'GG'], ['Ketel Marte#', '30', '2B', '6.8', '136', '583', '504', '93', '147', '23', '2', '36', '95', '7', '1', '65', '106', '.292', '.372', '.560', '.932', '155', '.396', '155', '282', '9', '5', '0', '9', '7', '*4D/H6', 'AS,MVP-3,SS'], ['Geraldo Perdomo#', '24', 'SS', '3.5', '98', '388', '337', '61', '92', '21', '2', '3', '37', '9', '1', '36', '58', '.273', '.344', '.374', '.718', '101', '.328', '104', '126', '5', '3', '7', '5', '0', '6/H', ''], ['Eugenio SuÃ¡rez', '32', '3B', '3.1', '158', '640', '571', '90', '146', '28', '2', '30', '101', '2', '1', '49', '176', '.256', '.319', '.469', '.788', '116', '.340', '115', '268', '10', '9', '0', '11', '0', '*5/D', ''], ['Lourdes Gurriel Jr.', '30', 'LF', '2.0', '133', '553', '513', '72', '143', '22', '2', '18', '75', '7', '1', '29', '101', '.279', '.322', '.435', '.757', '109', '.329', '106', '223', '16', '6', '0', '5', '1', '*7H/D3', ''], ['Corbin Carroll*', '23', 'CF', '3.4', '158', '684', '589', '121', '136', '22', '14', '22', '74', '35', '8', '73', '130', '.231', '.322', '.428', '.749', '107', '.333', '106', '252', '3', '10', '3', '9', '0', '*89/H', ''], ['Jake McCarthy*', '26', 'RF', '1.7', '142', '495', '442', '66', '126', '13', '7', '8', '56', '25', '6', '31', '78', '.285', '.349', '.400', '.749', '109', '.335', '107', '177', '4', '14', '5', '3', '1', '*987H/D', ''], ['Joc Pederson*', '32', 'DH', '2.9', '132', '449', '367', '62', '101', '17', '1', '23', '64', '7', '4', '55', '105', '.275', '.393', '.515', '.908', '151', '.388', '151', '189', '5', '18', '1', '3', '2', '*DH', ''], ['Kevin Newman', '30', 'MI', '2.2', '111', '311', '288', '41', '80', '17', '1', '3', '28', '8', '1', '15', '48', '.278', '.311', '.375', '.686', '91', '.313', '92', '108', '7', '0', '6', '2', '1', '643/H57D', ''], ['Randal Grichuk', '32', 'DH', '2.2', '106', '279', '254', '40', '74', '20', '2', '12', '46', '0', '0', '20', '46', '.291', '.348', '.528', '.875', '140', '.377', '142', '134', '5', '3', '0', '2', '0', '9DH7', ''], ['Blaze Alexander', '25', 'MI', '0.0', '61', '185', '166', '19', '41', '7', '0', '3', '21', '3', '1', '15', '49', '.247', '.321', '.343', '.664', '86', '.301', '87', '57', '1', '3', '1', '0', '0', '64D/H5', ''], ['Josh Bell#', '31', '1B', '0.3', '41', '162', '140', '24', '39', '5', '1', '5', '22', '0', '1', '17', '32', '.279', '.361', '.436', '.796', '121', '.349', '125', '61', '9', '1', '0', '0', '0', '3/DH', ''], ['Pavin Smith*', '28', 'UT', '0.6', '60', '158', '137', '26', '37', '11', '0', '9', '36', '1', '0', '18', '31', '.270', '.348', '.547', '.896', '145', '.382', '145', '75', '4', '0', '0', '3', '0', '397H/D1', ''], ['JosÃ© Herrera#', '27', 'C', '-0.2', '42', '114', '97', '11', '22', '4', '1', '1', '13', '0', '0', '9', '27', '.227', '.290', '.320', '.609', '70', '.272', '64', '31', '1', '0', '7', '1', '0', '2/H5D', ''], ['Alek Thomas*', '24', 'CF', '0.0', '39', '103', '95', '13', '18', '5', '1', '3', '17', '4', '1', '7', '17', '.189', '.245', '.358', '.603', '66', '.283', '71', '34', '7', '0', '1', '0', '0', '8/HD', ''], ['Tucker Barnhart*', '33', 'C', '0.3', '31', '96', '81', '13', '14', '3', '0', '0', '6', '1', '0', '13', '31', '.173', '.287', '.210', '.497', '42', '.252', '49', '17', '0', '0', '2', '0', '0', '2/1H', ''], ['Adrian Del Castillo*', '24', 'C', '0.5', '25', '87', '80', '12', '25', '5', '0', '4', '19', '1', '1', '7', '28', '.313', '.368', '.525', '.893', '146', '.379', '146', '42', '1', '0', '0', '0', '0', '2/H', ''], ['Luis Guillorme*', '29', '2B', '0.3', '18', '49', '37', '6', '6', '2', '0', '0', '4', '3', '0', '11', '8', '.162', '.347', '.216', '.563', '63', '.292', '70', '8', '2', '0', '0', '1', '0', '4/H5D', ''], ['Jace Peterson*', '34', 'IF', '-0.6', '14', '26', '22', '2', '1', '0', '0', '0', '1', '0', '0', '3', '6', '.045', '.154', '.045', '.199', '-40', '.114', '-48', '1', '1', '0', '0', '1', '0', '/H64D5', ''], ['Jorge Barrosa#', '23', 'OF', '0.0', '8', '18', '17', '3', '3', '2', '0', '0', '1', '1', '0', '0', '2', '.176', '.176', '.294', '.471', '28', '.213', '9', '5', '0', '0', '1', '0', '0', '/8H7', ''], ['Scott McGough', '34', 'P', '0.0', '2', '1', '1', '0', '0', '0', '0', '0', '0', '0', '0', '0', '1', '.000', '.000', '.000', '.000', '-100', '.000', '-136', '0', '0', '0', '0', '0', '0', '1', ''], ['Justin MartÃ\\xadnez', '22', 'P', '0.0', '2', '0', '0', '0', '0', '0', '0', '0', '0', '0', '0', '0', '0', '', '', '', '', '', '', '', '0', '0', '0', '0', '0', '0', '1', ''], ['Joe Mantiply', '33', 'P', '0.0', '1', '0', '0', '0', '0', '0', '0', '0', '0', '0', '0', '0', '0', '', '', '', '', '', '', '', '0', '0', '0', '0', '0', '0', '1', ''], ['Bryce Jarvis*', '26', 'P', '0.0', '2', '0', '0', '0', '0', '0', '0', '0', '0', '0', '0', '0', '0', '', '', '', '', '', '', '', '0', '0', '0', '0', '0', '0', '1', ''], ['A.J. Puk*', '29', 'P', '0.0', '1', '0', '0', '0', '0', '0', '0', '0', '0', '0', '0', '0', '0', '', '', '', '', '', '', '', '0', '0', '0', '0', '0', '0', '1', ''], ['Paul Sewald', '34', 'P', '0.0', '1', '0', '0', '0', '0', '0', '0', '0', '0', '0', '0', '0', '0', '', '', '', '', '', '', '', '0', '0', '0', '0', '0', '0', '1', ''], ['Kevin Ginkel*', '30', 'P', '0.0', '2', '0', '0', '0', '0', '0', '0', '0', '0', '0', '0', '0', '0', '', '', '', '', '', '', '', '0', '0', '0', '0', '0', '0', '1', ''], ['Luis FrÃ\\xadas', '26', 'P', '0.0', '1', '0', '0', '0', '0', '0', '0', '0', '0', '0', '0', '0', '0', '', '', '', '', '', '', '', '0', '0', '0', '0', '0', '0', '/1', ''], ['Ryan Thompson', '32', 'P', '0.0', '1', '0', '0', '0', '0', '0', '0', '0', '0', '0', '0', '0', '0', '', '', '', '', '', '', '', '0', '0', '0', '0', '0', '0', '1', '']]\n"
     ]
    },
    {
     "data": {
      "text/html": [
       "<div><style>\n",
       ".dataframe > thead > tr,\n",
       ".dataframe > tbody > tr {\n",
       "  text-align: right;\n",
       "  white-space: pre-wrap;\n",
       "}\n",
       "</style>\n",
       "<small>shape: (22, 32)</small><table border=\"1\" class=\"dataframe\"><thead><tr><th>Player</th><th>Age</th><th>Pos</th><th>bWAR</th><th>G</th><th>PA</th><th>AB</th><th>R</th><th>H</th><th>2B</th><th>3B</th><th>HR</th><th>RBI</th><th>SB</th><th>CS</th><th>BB</th><th>SO</th><th>BA</th><th>OBP</th><th>SLG</th><th>OPS</th><th>OPS+</th><th>rOBA</th><th>Rbat+</th><th>TB</th><th>GIDP</th><th>HBP</th><th>SH</th><th>SF</th><th>IBB</th><th>AllPos</th><th>Awards</th></tr><tr><td>str</td><td>i32</td><td>str</td><td>f32</td><td>i32</td><td>i32</td><td>i32</td><td>i32</td><td>i32</td><td>i32</td><td>i32</td><td>i32</td><td>i32</td><td>i32</td><td>i32</td><td>i32</td><td>i32</td><td>f32</td><td>f32</td><td>f32</td><td>f32</td><td>i32</td><td>f32</td><td>i32</td><td>f32</td><td>i32</td><td>i32</td><td>i32</td><td>i32</td><td>i32</td><td>str</td><td>str</td></tr></thead><tbody><tr><td>&quot;Gabriel Moreno&quot;</td><td>24</td><td>&quot;C&quot;</td><td>2.6</td><td>97</td><td>351</td><td>305</td><td>39</td><td>81</td><td>18</td><td>1</td><td>5</td><td>45</td><td>3</td><td>1</td><td>41</td><td>52</td><td>0.266</td><td>0.353</td><td>0.38</td><td>0.734</td><td>105</td><td>0.327</td><td>105</td><td>116.0</td><td>10</td><td>2</td><td>0</td><td>3</td><td>1</td><td>&quot;2H/5&quot;</td><td>&quot;&quot;</td></tr><tr><td>&quot;Christian Walker&quot;</td><td>33</td><td>&quot;1B&quot;</td><td>2.6</td><td>130</td><td>552</td><td>479</td><td>72</td><td>120</td><td>26</td><td>0</td><td>26</td><td>84</td><td>2</td><td>2</td><td>55</td><td>133</td><td>0.251</td><td>0.335</td><td>0.468</td><td>0.803</td><td>121</td><td>0.34</td><td>116</td><td>224.0</td><td>12</td><td>10</td><td>0</td><td>8</td><td>4</td><td>&quot;*3/H&quot;</td><td>&quot;GG&quot;</td></tr><tr><td>&quot;Ketel Marte#&quot;</td><td>30</td><td>&quot;2B&quot;</td><td>6.8</td><td>136</td><td>583</td><td>504</td><td>93</td><td>147</td><td>23</td><td>2</td><td>36</td><td>95</td><td>7</td><td>1</td><td>65</td><td>106</td><td>0.292</td><td>0.372</td><td>0.56</td><td>0.932</td><td>155</td><td>0.396</td><td>155</td><td>282.0</td><td>9</td><td>5</td><td>0</td><td>9</td><td>7</td><td>&quot;*4D/H6&quot;</td><td>&quot;AS,MVP-3,SS&quot;</td></tr><tr><td>&quot;Geraldo Perdomo#&quot;</td><td>24</td><td>&quot;SS&quot;</td><td>3.5</td><td>98</td><td>388</td><td>337</td><td>61</td><td>92</td><td>21</td><td>2</td><td>3</td><td>37</td><td>9</td><td>1</td><td>36</td><td>58</td><td>0.273</td><td>0.344</td><td>0.374</td><td>0.718</td><td>101</td><td>0.328</td><td>104</td><td>126.0</td><td>5</td><td>3</td><td>7</td><td>5</td><td>0</td><td>&quot;6/H&quot;</td><td>&quot;&quot;</td></tr><tr><td>&quot;Eugenio SuÃ¡rez&quot;</td><td>32</td><td>&quot;3B&quot;</td><td>3.1</td><td>158</td><td>640</td><td>571</td><td>90</td><td>146</td><td>28</td><td>2</td><td>30</td><td>101</td><td>2</td><td>1</td><td>49</td><td>176</td><td>0.256</td><td>0.319</td><td>0.469</td><td>0.788</td><td>116</td><td>0.34</td><td>115</td><td>268.0</td><td>10</td><td>9</td><td>0</td><td>11</td><td>0</td><td>&quot;*5/D&quot;</td><td>&quot;&quot;</td></tr><tr><td>&hellip;</td><td>&hellip;</td><td>&hellip;</td><td>&hellip;</td><td>&hellip;</td><td>&hellip;</td><td>&hellip;</td><td>&hellip;</td><td>&hellip;</td><td>&hellip;</td><td>&hellip;</td><td>&hellip;</td><td>&hellip;</td><td>&hellip;</td><td>&hellip;</td><td>&hellip;</td><td>&hellip;</td><td>&hellip;</td><td>&hellip;</td><td>&hellip;</td><td>&hellip;</td><td>&hellip;</td><td>&hellip;</td><td>&hellip;</td><td>&hellip;</td><td>&hellip;</td><td>&hellip;</td><td>&hellip;</td><td>&hellip;</td><td>&hellip;</td><td>&hellip;</td><td>&hellip;</td></tr><tr><td>&quot;Adrian Del Castillo*&quot;</td><td>24</td><td>&quot;C&quot;</td><td>0.5</td><td>25</td><td>87</td><td>80</td><td>12</td><td>25</td><td>5</td><td>0</td><td>4</td><td>19</td><td>1</td><td>1</td><td>7</td><td>28</td><td>0.313</td><td>0.368</td><td>0.525</td><td>0.893</td><td>146</td><td>0.379</td><td>146</td><td>42.0</td><td>1</td><td>0</td><td>0</td><td>0</td><td>0</td><td>&quot;2/H&quot;</td><td>&quot;&quot;</td></tr><tr><td>&quot;Luis Guillorme*&quot;</td><td>29</td><td>&quot;2B&quot;</td><td>0.3</td><td>18</td><td>49</td><td>37</td><td>6</td><td>6</td><td>2</td><td>0</td><td>0</td><td>4</td><td>3</td><td>0</td><td>11</td><td>8</td><td>0.162</td><td>0.347</td><td>0.216</td><td>0.563</td><td>63</td><td>0.292</td><td>70</td><td>8.0</td><td>2</td><td>0</td><td>0</td><td>1</td><td>0</td><td>&quot;4/H5D&quot;</td><td>&quot;&quot;</td></tr><tr><td>&quot;Jace Peterson*&quot;</td><td>34</td><td>&quot;IF&quot;</td><td>-0.6</td><td>14</td><td>26</td><td>22</td><td>2</td><td>1</td><td>0</td><td>0</td><td>0</td><td>1</td><td>0</td><td>0</td><td>3</td><td>6</td><td>0.045</td><td>0.154</td><td>0.045</td><td>0.199</td><td>-40</td><td>0.114</td><td>-48</td><td>1.0</td><td>1</td><td>0</td><td>0</td><td>1</td><td>0</td><td>&quot;/H64D5&quot;</td><td>&quot;&quot;</td></tr><tr><td>&quot;Jorge Barrosa#&quot;</td><td>23</td><td>&quot;OF&quot;</td><td>0.0</td><td>8</td><td>18</td><td>17</td><td>3</td><td>3</td><td>2</td><td>0</td><td>0</td><td>1</td><td>1</td><td>0</td><td>0</td><td>2</td><td>0.176</td><td>0.176</td><td>0.294</td><td>0.471</td><td>28</td><td>0.213</td><td>9</td><td>5.0</td><td>0</td><td>0</td><td>1</td><td>0</td><td>0</td><td>&quot;/8H7&quot;</td><td>&quot;&quot;</td></tr><tr><td>&quot;Scott McGough&quot;</td><td>34</td><td>&quot;P&quot;</td><td>0.0</td><td>2</td><td>1</td><td>1</td><td>0</td><td>0</td><td>0</td><td>0</td><td>0</td><td>0</td><td>0</td><td>0</td><td>0</td><td>1</td><td>0.0</td><td>0.0</td><td>0.0</td><td>0.0</td><td>-100</td><td>0.0</td><td>-136</td><td>0.0</td><td>0</td><td>0</td><td>0</td><td>0</td><td>0</td><td>&quot;1&quot;</td><td>&quot;&quot;</td></tr></tbody></table></div>"
      ],
      "text/plain": [
       "shape: (22, 32)\n",
       "┌──────────────────────┬─────┬─────┬──────┬───┬─────┬─────┬────────┬─────────────┐\n",
       "│ Player               ┆ Age ┆ Pos ┆ bWAR ┆ … ┆ SF  ┆ IBB ┆ AllPos ┆ Awards      │\n",
       "│ ---                  ┆ --- ┆ --- ┆ ---  ┆   ┆ --- ┆ --- ┆ ---    ┆ ---         │\n",
       "│ str                  ┆ i32 ┆ str ┆ f32  ┆   ┆ i32 ┆ i32 ┆ str    ┆ str         │\n",
       "╞══════════════════════╪═════╪═════╪══════╪═══╪═════╪═════╪════════╪═════════════╡\n",
       "│ Gabriel Moreno       ┆ 24  ┆ C   ┆ 2.6  ┆ … ┆ 3   ┆ 1   ┆ 2H/5   ┆             │\n",
       "│ Christian Walker     ┆ 33  ┆ 1B  ┆ 2.6  ┆ … ┆ 8   ┆ 4   ┆ *3/H   ┆ GG          │\n",
       "│ Ketel Marte#         ┆ 30  ┆ 2B  ┆ 6.8  ┆ … ┆ 9   ┆ 7   ┆ *4D/H6 ┆ AS,MVP-3,SS │\n",
       "│ Geraldo Perdomo#     ┆ 24  ┆ SS  ┆ 3.5  ┆ … ┆ 5   ┆ 0   ┆ 6/H    ┆             │\n",
       "│ Eugenio SuÃ¡rez      ┆ 32  ┆ 3B  ┆ 3.1  ┆ … ┆ 11  ┆ 0   ┆ *5/D   ┆             │\n",
       "│ …                    ┆ …   ┆ …   ┆ …    ┆ … ┆ …   ┆ …   ┆ …      ┆ …           │\n",
       "│ Adrian Del Castillo* ┆ 24  ┆ C   ┆ 0.5  ┆ … ┆ 0   ┆ 0   ┆ 2/H    ┆             │\n",
       "│ Luis Guillorme*      ┆ 29  ┆ 2B  ┆ 0.3  ┆ … ┆ 1   ┆ 0   ┆ 4/H5D  ┆             │\n",
       "│ Jace Peterson*       ┆ 34  ┆ IF  ┆ -0.6 ┆ … ┆ 1   ┆ 0   ┆ /H64D5 ┆             │\n",
       "│ Jorge Barrosa#       ┆ 23  ┆ OF  ┆ 0.0  ┆ … ┆ 0   ┆ 0   ┆ /8H7   ┆             │\n",
       "│ Scott McGough        ┆ 34  ┆ P   ┆ 0.0  ┆ … ┆ 0   ┆ 0   ┆ 1      ┆             │\n",
       "└──────────────────────┴─────┴─────┴──────┴───┴─────┴─────┴────────┴─────────────┘"
      ]
     },
     "execution_count": 11,
     "metadata": {},
     "output_type": "execute_result"
    }
   ],
   "source": [
    "# Assuming we are interested in the first table\n",
    "table = tables[0]\n",
    "\n",
    "# Extract headers\n",
    "headers = [th.text for th in table.find(\"thead\").find_all(\"th\")]\n",
    "headers.remove(\"Rk\")\n",
    "headers[-2] = \"AllPos\"\n",
    "print(headers)\n",
    "# Extract rows\n",
    "rows = []\n",
    "for row in table.find(\"tbody\").find_all(\"tr\"):\n",
    "    if \"class\" not in row.attrs or row.attrs[\"class\"] != [\"thead\"]:\n",
    "        cells = row.find_all(\"td\")\n",
    "        cells = [cell.text.strip() for cell in cells]\n",
    "        rows.append(cells)\n",
    "print(rows)\n",
    "# Create the dataframe using Polars\n",
    "df = pl.DataFrame(rows, schema=headers, orient=\"row\")\n",
    "df = df.rename({\"WAR\": \"bWAR\"})\n",
    "df = df.filter(pl.col(\"OPS+\") != \"\")\n",
    "df = df.with_columns(\n",
    "    [\n",
    "        pl.col(\"Age\").cast(pl.Int32),\n",
    "        pl.col(\"G\").cast(pl.Int32),\n",
    "        pl.col(\"bWAR\").cast(pl.Float32),\n",
    "        pl.col(\"PA\").cast(pl.Int32),\n",
    "        pl.col(\"AB\").cast(pl.Int32),\n",
    "        pl.col(\"R\").cast(pl.Int32),\n",
    "        pl.col(\"H\").cast(pl.Int32),\n",
    "        pl.col(\"2B\").cast(pl.Int32),\n",
    "        pl.col(\"3B\").cast(pl.Int32),\n",
    "        pl.col(\"HR\").cast(pl.Int32),\n",
    "        pl.col(\"RBI\").cast(pl.Int32),\n",
    "        pl.col(\"SB\").cast(pl.Int32),\n",
    "        pl.col(\"CS\").cast(pl.Int32),\n",
    "        pl.col(\"BB\").cast(pl.Int32),\n",
    "        pl.col(\"SO\").cast(pl.Int32),\n",
    "        pl.col(\"BA\").cast(pl.Float32),\n",
    "        pl.col(\"OBP\").cast(pl.Float32),\n",
    "        pl.col(\"SLG\").cast(pl.Float32),\n",
    "        pl.col(\"OPS\").cast(pl.Float32),\n",
    "        pl.col(\"OPS+\").cast(pl.Int32),\n",
    "        pl.col(\"rOBA\").cast(pl.Float32),\n",
    "        pl.col(\"Rbat+\").cast(pl.Int32),\n",
    "        pl.col(\"TB\").cast(pl.Float32),\n",
    "        pl.col(\"GIDP\").cast(pl.Int32),\n",
    "        pl.col(\"HBP\").cast(pl.Int32),\n",
    "        pl.col(\"SH\").cast(pl.Int32),\n",
    "        pl.col(\"SF\").cast(pl.Int32),\n",
    "        pl.col(\"IBB\").cast(pl.Int32),\n",
    "    ]\n",
    ")\n",
    "df\n"
   ]
  },
  {
   "cell_type": "code",
   "execution_count": 14,
   "metadata": {},
   "outputs": [],
   "source": [
    "def fangraphs_team_batting_url(team: str, year: int) -> str:\n",
    "    data = requests.get(BREF_TEAM_BATTING_URL.format(team=team, year=year)).text\n",
    "    soup = BeautifulSoup(data, \"html.parser\")\n",
    "    tables = soup.find_all(\"table\")\n",
    "    table = tables[0]\n",
    "\n",
    "    # Extract headers\n",
    "    headers = [th.text for th in table.find(\"thead\").find_all(\"th\")]\n",
    "    headers.remove(\"Rk\")\n",
    "    headers[-2] = \"AllPos\"\n",
    "    # print(headers)\n",
    "    # Extract rows\n",
    "    rows = []\n",
    "    for row in table.find(\"tbody\").find_all(\"tr\"):\n",
    "        if \"class\" not in row.attrs or row.attrs[\"class\"] != [\"thead\"]:\n",
    "            cells = row.find_all(\"td\")\n",
    "            cells = [cell.text.strip() for cell in cells]\n",
    "            rows.append(cells)\n",
    "    # print(rows)\n",
    "    # Create the dataframe using Polars\n",
    "    df = pl.DataFrame(rows, schema=headers, orient=\"row\")\n",
    "    df = df.rename({\"WAR\": \"bWAR\"})\n",
    "    df = df.filter(pl.col(\"OPS+\") != \"\")\n",
    "    df = df.with_columns(\n",
    "        [\n",
    "            pl.col(\"Age\").cast(pl.Int32),\n",
    "            pl.col(\"G\").cast(pl.Int32),\n",
    "            pl.col(\"bWAR\").cast(pl.Float32),\n",
    "            pl.col(\"PA\").cast(pl.Int32),\n",
    "            pl.col(\"AB\").cast(pl.Int32),\n",
    "            pl.col(\"R\").cast(pl.Int32),\n",
    "            pl.col(\"H\").cast(pl.Int32),\n",
    "            pl.col(\"2B\").cast(pl.Int32),\n",
    "            pl.col(\"3B\").cast(pl.Int32),\n",
    "            pl.col(\"HR\").cast(pl.Int32),\n",
    "            pl.col(\"RBI\").cast(pl.Int32),\n",
    "            pl.col(\"SB\").cast(pl.Int32),\n",
    "            pl.col(\"CS\").cast(pl.Int32),\n",
    "            pl.col(\"BB\").cast(pl.Int32),\n",
    "            pl.col(\"SO\").cast(pl.Int32),\n",
    "            pl.col(\"BA\").cast(pl.Float32),\n",
    "            pl.col(\"OBP\").cast(pl.Float32),\n",
    "            pl.col(\"SLG\").cast(pl.Float32),\n",
    "            pl.col(\"OPS\").cast(pl.Float32),\n",
    "            pl.col(\"OPS+\").cast(pl.Int32),\n",
    "            pl.col(\"rOBA\").cast(pl.Float32),\n",
    "            pl.col(\"Rbat+\").cast(pl.Int32),\n",
    "            pl.col(\"TB\").cast(pl.Float32),\n",
    "            pl.col(\"GIDP\").cast(pl.Int32),\n",
    "            pl.col(\"HBP\").cast(pl.Int32),\n",
    "            pl.col(\"SH\").cast(pl.Int32),\n",
    "            pl.col(\"SF\").cast(pl.Int32),\n",
    "            pl.col(\"IBB\").cast(pl.Int32),\n",
    "        ]\n",
    "    )\n",
    "    return df"
   ]
  },
  {
   "cell_type": "code",
   "execution_count": 15,
   "metadata": {},
   "outputs": [
    {
     "data": {
      "text/html": [
       "<div><style>\n",
       ".dataframe > thead > tr,\n",
       ".dataframe > tbody > tr {\n",
       "  text-align: right;\n",
       "  white-space: pre-wrap;\n",
       "}\n",
       "</style>\n",
       "<small>shape: (36, 32)</small><table border=\"1\" class=\"dataframe\"><thead><tr><th>Player</th><th>Age</th><th>Pos</th><th>bWAR</th><th>G</th><th>PA</th><th>AB</th><th>R</th><th>H</th><th>2B</th><th>3B</th><th>HR</th><th>RBI</th><th>SB</th><th>CS</th><th>BB</th><th>SO</th><th>BA</th><th>OBP</th><th>SLG</th><th>OPS</th><th>OPS+</th><th>rOBA</th><th>Rbat+</th><th>TB</th><th>GIDP</th><th>HBP</th><th>SH</th><th>SF</th><th>IBB</th><th>AllPos</th><th>Awards</th></tr><tr><td>str</td><td>i32</td><td>str</td><td>f32</td><td>i32</td><td>i32</td><td>i32</td><td>i32</td><td>i32</td><td>i32</td><td>i32</td><td>i32</td><td>i32</td><td>i32</td><td>i32</td><td>i32</td><td>i32</td><td>f32</td><td>f32</td><td>f32</td><td>f32</td><td>i32</td><td>f32</td><td>i32</td><td>f32</td><td>i32</td><td>i32</td><td>i32</td><td>i32</td><td>i32</td><td>str</td><td>str</td></tr></thead><tbody><tr><td>&quot;Gary SÃ¡nchez&quot;</td><td>28</td><td>&quot;C&quot;</td><td>0.7</td><td>117</td><td>440</td><td>383</td><td>54</td><td>78</td><td>13</td><td>1</td><td>23</td><td>54</td><td>0</td><td>0</td><td>52</td><td>121</td><td>0.204</td><td>0.307</td><td>0.423</td><td>0.73</td><td>99</td><td>0.315</td><td>96</td><td>162.0</td><td>14</td><td>5</td><td>0</td><td>0</td><td>3</td><td>&quot;*2H/D&quot;</td><td>&quot;&quot;</td></tr><tr><td>&quot;Anthony Rizzo*&quot;</td><td>31</td><td>&quot;1B&quot;</td><td>0.5</td><td>49</td><td>200</td><td>173</td><td>32</td><td>43</td><td>7</td><td>0</td><td>8</td><td>21</td><td>2</td><td>0</td><td>16</td><td>28</td><td>0.249</td><td>0.34</td><td>0.428</td><td>0.768</td><td>110</td><td>0.354</td><td>122</td><td>74.0</td><td>5</td><td>9</td><td>0</td><td>2</td><td>0</td><td>&quot;3/H&quot;</td><td>&quot;&quot;</td></tr><tr><td>&quot;DJ LeMahieu&quot;</td><td>32</td><td>&quot;2B&quot;</td><td>1.5</td><td>150</td><td>679</td><td>597</td><td>84</td><td>160</td><td>24</td><td>1</td><td>10</td><td>57</td><td>4</td><td>2</td><td>73</td><td>94</td><td>0.268</td><td>0.349</td><td>0.362</td><td>0.711</td><td>97</td><td>0.317</td><td>98</td><td>216.0</td><td>16</td><td>4</td><td>0</td><td>5</td><td>2</td><td>&quot;435/HD&quot;</td><td>&quot;&quot;</td></tr><tr><td>&quot;Gleyber Torres&quot;</td><td>24</td><td>&quot;SS&quot;</td><td>0.8</td><td>127</td><td>516</td><td>459</td><td>50</td><td>119</td><td>22</td><td>0</td><td>9</td><td>51</td><td>14</td><td>6</td><td>50</td><td>104</td><td>0.259</td><td>0.331</td><td>0.366</td><td>0.697</td><td>93</td><td>0.312</td><td>94</td><td>168.0</td><td>12</td><td>1</td><td>2</td><td>4</td><td>1</td><td>&quot;64/H&quot;</td><td>&quot;&quot;</td></tr><tr><td>&quot;Gio Urshela&quot;</td><td>29</td><td>&quot;3B&quot;</td><td>0.6</td><td>116</td><td>442</td><td>420</td><td>42</td><td>112</td><td>18</td><td>2</td><td>14</td><td>49</td><td>1</td><td>0</td><td>20</td><td>109</td><td>0.267</td><td>0.301</td><td>0.419</td><td>0.72</td><td>96</td><td>0.313</td><td>95</td><td>176.0</td><td>16</td><td>1</td><td>0</td><td>1</td><td>0</td><td>&quot;56/H&quot;</td><td>&quot;&quot;</td></tr><tr><td>&hellip;</td><td>&hellip;</td><td>&hellip;</td><td>&hellip;</td><td>&hellip;</td><td>&hellip;</td><td>&hellip;</td><td>&hellip;</td><td>&hellip;</td><td>&hellip;</td><td>&hellip;</td><td>&hellip;</td><td>&hellip;</td><td>&hellip;</td><td>&hellip;</td><td>&hellip;</td><td>&hellip;</td><td>&hellip;</td><td>&hellip;</td><td>&hellip;</td><td>&hellip;</td><td>&hellip;</td><td>&hellip;</td><td>&hellip;</td><td>&hellip;</td><td>&hellip;</td><td>&hellip;</td><td>&hellip;</td><td>&hellip;</td><td>&hellip;</td><td>&hellip;</td><td>&hellip;</td></tr><tr><td>&quot;Clarke Schmidt&quot;</td><td>25</td><td>&quot;P&quot;</td><td>0.0</td><td>1</td><td>2</td><td>1</td><td>0</td><td>0</td><td>0</td><td>0</td><td>0</td><td>0</td><td>0</td><td>0</td><td>1</td><td>1</td><td>0.0</td><td>0.5</td><td>0.0</td><td>0.5</td><td>58</td><td>0.346</td><td>117</td><td>0.0</td><td>0</td><td>0</td><td>0</td><td>0</td><td>0</td><td>&quot;/1&quot;</td><td>&quot;&quot;</td></tr><tr><td>&quot;Corey Kluber&quot;</td><td>35</td><td>&quot;P&quot;</td><td>0.0</td><td>1</td><td>2</td><td>2</td><td>0</td><td>0</td><td>0</td><td>0</td><td>0</td><td>0</td><td>0</td><td>0</td><td>0</td><td>1</td><td>0.0</td><td>0.0</td><td>0.0</td><td>0.0</td><td>-100</td><td>0.0</td><td>-125</td><td>0.0</td><td>0</td><td>0</td><td>0</td><td>0</td><td>0</td><td>&quot;1&quot;</td><td>&quot;&quot;</td></tr><tr><td>&quot;Jameson Taillon&quot;</td><td>29</td><td>&quot;P&quot;</td><td>0.0</td><td>2</td><td>2</td><td>1</td><td>0</td><td>0</td><td>0</td><td>0</td><td>0</td><td>0</td><td>0</td><td>0</td><td>1</td><td>0</td><td>0.0</td><td>0.5</td><td>0.0</td><td>0.5</td><td>58</td><td>0.346</td><td>117</td><td>0.0</td><td>0</td><td>0</td><td>0</td><td>0</td><td>0</td><td>&quot;1&quot;</td><td>&quot;&quot;</td></tr><tr><td>&quot;Andrew Heaney*&quot;</td><td>30</td><td>&quot;P&quot;</td><td>0.0</td><td>2</td><td>1</td><td>1</td><td>0</td><td>0</td><td>0</td><td>0</td><td>0</td><td>0</td><td>0</td><td>0</td><td>0</td><td>1</td><td>0.0</td><td>0.0</td><td>0.0</td><td>0.0</td><td>-100</td><td>0.0</td><td>-125</td><td>0.0</td><td>0</td><td>0</td><td>0</td><td>0</td><td>0</td><td>&quot;1&quot;</td><td>&quot;&quot;</td></tr><tr><td>&quot;Nestor Cortes&quot;</td><td>26</td><td>&quot;P&quot;</td><td>0.0</td><td>2</td><td>1</td><td>1</td><td>0</td><td>0</td><td>0</td><td>0</td><td>0</td><td>0</td><td>0</td><td>0</td><td>0</td><td>0</td><td>0.0</td><td>0.0</td><td>0.0</td><td>0.0</td><td>-100</td><td>0.0</td><td>-125</td><td>0.0</td><td>0</td><td>0</td><td>0</td><td>0</td><td>0</td><td>&quot;1/H&quot;</td><td>&quot;&quot;</td></tr></tbody></table></div>"
      ],
      "text/plain": [
       "shape: (36, 32)\n",
       "┌─────────────────┬─────┬─────┬──────┬───┬─────┬─────┬────────┬────────┐\n",
       "│ Player          ┆ Age ┆ Pos ┆ bWAR ┆ … ┆ SF  ┆ IBB ┆ AllPos ┆ Awards │\n",
       "│ ---             ┆ --- ┆ --- ┆ ---  ┆   ┆ --- ┆ --- ┆ ---    ┆ ---    │\n",
       "│ str             ┆ i32 ┆ str ┆ f32  ┆   ┆ i32 ┆ i32 ┆ str    ┆ str    │\n",
       "╞═════════════════╪═════╪═════╪══════╪═══╪═════╪═════╪════════╪════════╡\n",
       "│ Gary SÃ¡nchez   ┆ 28  ┆ C   ┆ 0.7  ┆ … ┆ 0   ┆ 3   ┆ *2H/D  ┆        │\n",
       "│ Anthony Rizzo*  ┆ 31  ┆ 1B  ┆ 0.5  ┆ … ┆ 2   ┆ 0   ┆ 3/H    ┆        │\n",
       "│ DJ LeMahieu     ┆ 32  ┆ 2B  ┆ 1.5  ┆ … ┆ 5   ┆ 2   ┆ 435/HD ┆        │\n",
       "│ Gleyber Torres  ┆ 24  ┆ SS  ┆ 0.8  ┆ … ┆ 4   ┆ 1   ┆ 64/H   ┆        │\n",
       "│ Gio Urshela     ┆ 29  ┆ 3B  ┆ 0.6  ┆ … ┆ 1   ┆ 0   ┆ 56/H   ┆        │\n",
       "│ …               ┆ …   ┆ …   ┆ …    ┆ … ┆ …   ┆ …   ┆ …      ┆ …      │\n",
       "│ Clarke Schmidt  ┆ 25  ┆ P   ┆ 0.0  ┆ … ┆ 0   ┆ 0   ┆ /1     ┆        │\n",
       "│ Corey Kluber    ┆ 35  ┆ P   ┆ 0.0  ┆ … ┆ 0   ┆ 0   ┆ 1      ┆        │\n",
       "│ Jameson Taillon ┆ 29  ┆ P   ┆ 0.0  ┆ … ┆ 0   ┆ 0   ┆ 1      ┆        │\n",
       "│ Andrew Heaney*  ┆ 30  ┆ P   ┆ 0.0  ┆ … ┆ 0   ┆ 0   ┆ 1      ┆        │\n",
       "│ Nestor Cortes   ┆ 26  ┆ P   ┆ 0.0  ┆ … ┆ 0   ┆ 0   ┆ 1/H    ┆        │\n",
       "└─────────────────┴─────┴─────┴──────┴───┴─────┴─────┴────────┴────────┘"
      ]
     },
     "execution_count": 15,
     "metadata": {},
     "output_type": "execute_result"
    }
   ],
   "source": [
    "fangraphs_team_batting_url(\"NYY\", 2021)"
   ]
  },
  {
   "cell_type": "code",
   "execution_count": 16,
   "metadata": {},
   "outputs": [
    {
     "data": {
      "text/html": [
       "<div><style>\n",
       ".dataframe > thead > tr,\n",
       ".dataframe > tbody > tr {\n",
       "  text-align: right;\n",
       "  white-space: pre-wrap;\n",
       "}\n",
       "</style>\n",
       "<small>shape: (33, 32)</small><table border=\"1\" class=\"dataframe\"><thead><tr><th>Player</th><th>Age</th><th>Pos</th><th>bWAR</th><th>G</th><th>PA</th><th>AB</th><th>R</th><th>H</th><th>2B</th><th>3B</th><th>HR</th><th>RBI</th><th>SB</th><th>CS</th><th>BB</th><th>SO</th><th>BA</th><th>OBP</th><th>SLG</th><th>OPS</th><th>OPS+</th><th>rOBA</th><th>Rbat+</th><th>TB</th><th>GIDP</th><th>HBP</th><th>SH</th><th>SF</th><th>IBB</th><th>AllPos</th><th>Awards</th></tr><tr><td>str</td><td>i32</td><td>str</td><td>f32</td><td>i32</td><td>i32</td><td>i32</td><td>i32</td><td>i32</td><td>i32</td><td>i32</td><td>i32</td><td>i32</td><td>i32</td><td>i32</td><td>i32</td><td>i32</td><td>f32</td><td>f32</td><td>f32</td><td>f32</td><td>i32</td><td>f32</td><td>i32</td><td>f32</td><td>i32</td><td>i32</td><td>i32</td><td>i32</td><td>i32</td><td>str</td><td>str</td></tr></thead><tbody><tr><td>&quot;Tim Blackwell#&quot;</td><td>27</td><td>&quot;C&quot;</td><td>3.0</td><td>103</td><td>366</td><td>320</td><td>24</td><td>87</td><td>16</td><td>4</td><td>5</td><td>30</td><td>0</td><td>1</td><td>41</td><td>62</td><td>0.272</td><td>0.352</td><td>0.394</td><td>0.745</td><td>103</td><td>0.338</td><td>98</td><td>126.0</td><td>5</td><td>0</td><td>2</td><td>3</td><td>6</td><td>&quot;2/H&quot;</td><td>&quot;&quot;</td></tr><tr><td>&quot;Bill Buckner*&quot;</td><td>30</td><td>&quot;1B&quot;</td><td>1.5</td><td>145</td><td>615</td><td>578</td><td>69</td><td>187</td><td>41</td><td>3</td><td>10</td><td>68</td><td>1</td><td>2</td><td>30</td><td>18</td><td>0.324</td><td>0.353</td><td>0.457</td><td>0.81</td><td>119</td><td>0.363</td><td>116</td><td>264.0</td><td>13</td><td>0</td><td>0</td><td>6</td><td>11</td><td>&quot;379/H&quot;</td><td>&quot;MVP-14&quot;</td></tr><tr><td>&quot;Mike Tyson&quot;</td><td>30</td><td>&quot;2B&quot;</td><td>-0.7</td><td>123</td><td>363</td><td>341</td><td>34</td><td>81</td><td>19</td><td>3</td><td>3</td><td>23</td><td>1</td><td>2</td><td>15</td><td>61</td><td>0.238</td><td>0.273</td><td>0.337</td><td>0.61</td><td>65</td><td>0.285</td><td>58</td><td>115.0</td><td>5</td><td>2</td><td>4</td><td>1</td><td>3</td><td>&quot;*4/H&quot;</td><td>&quot;&quot;</td></tr><tr><td>&quot;IvÃ¡n de JesÃºs&quot;</td><td>27</td><td>&quot;SS&quot;</td><td>1.9</td><td>157</td><td>692</td><td>618</td><td>78</td><td>160</td><td>26</td><td>3</td><td>3</td><td>33</td><td>44</td><td>16</td><td>60</td><td>81</td><td>0.259</td><td>0.327</td><td>0.325</td><td>0.653</td><td>78</td><td>0.32</td><td>79</td><td>201.0</td><td>4</td><td>4</td><td>8</td><td>2</td><td>2</td><td>&quot;*6/H&quot;</td><td>&quot;&quot;</td></tr><tr><td>&quot;Lenny Randle#&quot;</td><td>31</td><td>&quot;3B&quot;</td><td>1.4</td><td>130</td><td>549</td><td>489</td><td>67</td><td>135</td><td>19</td><td>6</td><td>5</td><td>39</td><td>19</td><td>13</td><td>50</td><td>55</td><td>0.276</td><td>0.343</td><td>0.37</td><td>0.713</td><td>94</td><td>0.337</td><td>98</td><td>181.0</td><td>13</td><td>1</td><td>7</td><td>2</td><td>2</td><td>&quot;*54H/78&quot;</td><td>&quot;&quot;</td></tr><tr><td>&hellip;</td><td>&hellip;</td><td>&hellip;</td><td>&hellip;</td><td>&hellip;</td><td>&hellip;</td><td>&hellip;</td><td>&hellip;</td><td>&hellip;</td><td>&hellip;</td><td>&hellip;</td><td>&hellip;</td><td>&hellip;</td><td>&hellip;</td><td>&hellip;</td><td>&hellip;</td><td>&hellip;</td><td>&hellip;</td><td>&hellip;</td><td>&hellip;</td><td>&hellip;</td><td>&hellip;</td><td>&hellip;</td><td>&hellip;</td><td>&hellip;</td><td>&hellip;</td><td>&hellip;</td><td>&hellip;</td><td>&hellip;</td><td>&hellip;</td><td>&hellip;</td><td>&hellip;</td></tr><tr><td>&quot;Bill Caudill&quot;</td><td>23</td><td>&quot;P&quot;</td><td>0.0</td><td>72</td><td>10</td><td>9</td><td>0</td><td>2</td><td>1</td><td>0</td><td>0</td><td>1</td><td>0</td><td>0</td><td>0</td><td>2</td><td>0.222</td><td>0.222</td><td>0.333</td><td>0.556</td><td>49</td><td>0.247</td><td>22</td><td>3.0</td><td>1</td><td>0</td><td>1</td><td>0</td><td>0</td><td>&quot;1&quot;</td><td>&quot;&quot;</td></tr><tr><td>&quot;Bruce Sutter&quot;</td><td>27</td><td>&quot;P&quot;</td><td>-0.1</td><td>60</td><td>10</td><td>9</td><td>0</td><td>1</td><td>0</td><td>0</td><td>0</td><td>1</td><td>0</td><td>0</td><td>0</td><td>6</td><td>0.111</td><td>0.111</td><td>0.111</td><td>0.222</td><td>-39</td><td>0.101</td><td>-97</td><td>1.0</td><td>0</td><td>0</td><td>1</td><td>0</td><td>0</td><td>&quot;1&quot;</td><td>&quot;AS&quot;</td></tr><tr><td>&quot;Randy Martz*&quot;</td><td>24</td><td>&quot;P&quot;</td><td>-0.1</td><td>6</td><td>9</td><td>9</td><td>0</td><td>1</td><td>0</td><td>0</td><td>0</td><td>0</td><td>0</td><td>0</td><td>0</td><td>5</td><td>0.111</td><td>0.111</td><td>0.111</td><td>0.222</td><td>-39</td><td>0.101</td><td>-77</td><td>1.0</td><td>0</td><td>0</td><td>0</td><td>0</td><td>0</td><td>&quot;/1&quot;</td><td>&quot;&quot;</td></tr><tr><td>&quot;Dick Tidrow&quot;</td><td>33</td><td>&quot;P&quot;</td><td>-0.1</td><td>84</td><td>4</td><td>4</td><td>1</td><td>0</td><td>0</td><td>0</td><td>0</td><td>0</td><td>0</td><td>0</td><td>0</td><td>1</td><td>0.0</td><td>0.0</td><td>0.0</td><td>0.0</td><td>-100</td><td>0.0</td><td>-154</td><td>0.0</td><td>0</td><td>0</td><td>0</td><td>0</td><td>0</td><td>&quot;1&quot;</td><td>&quot;&quot;</td></tr><tr><td>&quot;George Riley*&quot;</td><td>23</td><td>&quot;P&quot;</td><td>0.0</td><td>22</td><td>2</td><td>1</td><td>0</td><td>0</td><td>0</td><td>0</td><td>0</td><td>0</td><td>0</td><td>0</td><td>0</td><td>0</td><td>0.0</td><td>0.0</td><td>0.0</td><td>0.0</td><td>-100</td><td>0.0</td><td>-420</td><td>0.0</td><td>0</td><td>0</td><td>1</td><td>0</td><td>0</td><td>&quot;1&quot;</td><td>&quot;&quot;</td></tr></tbody></table></div>"
      ],
      "text/plain": [
       "shape: (33, 32)\n",
       "┌─────────────────┬─────┬─────┬──────┬───┬─────┬─────┬─────────┬────────┐\n",
       "│ Player          ┆ Age ┆ Pos ┆ bWAR ┆ … ┆ SF  ┆ IBB ┆ AllPos  ┆ Awards │\n",
       "│ ---             ┆ --- ┆ --- ┆ ---  ┆   ┆ --- ┆ --- ┆ ---     ┆ ---    │\n",
       "│ str             ┆ i32 ┆ str ┆ f32  ┆   ┆ i32 ┆ i32 ┆ str     ┆ str    │\n",
       "╞═════════════════╪═════╪═════╪══════╪═══╪═════╪═════╪═════════╪════════╡\n",
       "│ Tim Blackwell#  ┆ 27  ┆ C   ┆ 3.0  ┆ … ┆ 3   ┆ 6   ┆ 2/H     ┆        │\n",
       "│ Bill Buckner*   ┆ 30  ┆ 1B  ┆ 1.5  ┆ … ┆ 6   ┆ 11  ┆ 379/H   ┆ MVP-14 │\n",
       "│ Mike Tyson      ┆ 30  ┆ 2B  ┆ -0.7 ┆ … ┆ 1   ┆ 3   ┆ *4/H    ┆        │\n",
       "│ IvÃ¡n de JesÃºs ┆ 27  ┆ SS  ┆ 1.9  ┆ … ┆ 2   ┆ 2   ┆ *6/H    ┆        │\n",
       "│ Lenny Randle#   ┆ 31  ┆ 3B  ┆ 1.4  ┆ … ┆ 2   ┆ 2   ┆ *54H/78 ┆        │\n",
       "│ …               ┆ …   ┆ …   ┆ …    ┆ … ┆ …   ┆ …   ┆ …       ┆ …      │\n",
       "│ Bill Caudill    ┆ 23  ┆ P   ┆ 0.0  ┆ … ┆ 0   ┆ 0   ┆ 1       ┆        │\n",
       "│ Bruce Sutter    ┆ 27  ┆ P   ┆ -0.1 ┆ … ┆ 0   ┆ 0   ┆ 1       ┆ AS     │\n",
       "│ Randy Martz*    ┆ 24  ┆ P   ┆ -0.1 ┆ … ┆ 0   ┆ 0   ┆ /1      ┆        │\n",
       "│ Dick Tidrow     ┆ 33  ┆ P   ┆ -0.1 ┆ … ┆ 0   ┆ 0   ┆ 1       ┆        │\n",
       "│ George Riley*   ┆ 23  ┆ P   ┆ 0.0  ┆ … ┆ 0   ┆ 0   ┆ 1       ┆        │\n",
       "└─────────────────┴─────┴─────┴──────┴───┴─────┴─────┴─────────┴────────┘"
      ]
     },
     "execution_count": 16,
     "metadata": {},
     "output_type": "execute_result"
    }
   ],
   "source": [
    "fangraphs_team_batting_url(\"CHC\", 1980)"
   ]
  }
 ],
 "metadata": {
  "kernelspec": {
   "display_name": ".venv",
   "language": "python",
   "name": "python3"
  },
  "language_info": {
   "codemirror_mode": {
    "name": "ipython",
    "version": 3
   },
   "file_extension": ".py",
   "mimetype": "text/x-python",
   "name": "python",
   "nbconvert_exporter": "python",
   "pygments_lexer": "ipython3",
   "version": "3.13.0"
  }
 },
 "nbformat": 4,
 "nbformat_minor": 2
}
