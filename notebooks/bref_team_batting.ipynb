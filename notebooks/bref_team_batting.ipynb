{
 "cells": [
  {
   "cell_type": "markdown",
   "metadata": {},
   "source": [
    "# bref team batting"
   ]
  },
  {
   "cell_type": "code",
   "execution_count": null,
   "metadata": {},
   "outputs": [],
   "source": [
    "test_url = \"https://www.baseball-reference.com/teams/ARI/2024-batting.shtml#players_standard_batting\""
   ]
  },
  {
   "cell_type": "code",
   "execution_count": null,
   "metadata": {},
   "outputs": [],
   "source": [
    "import requests\n",
    "from bs4 import BeautifulSoup\n",
    "import polars as pl"
   ]
  },
  {
   "cell_type": "code",
   "execution_count": null,
   "metadata": {},
   "outputs": [],
   "source": [
    "data = requests.get(test_url).text\n",
    "soup = BeautifulSoup(data, \"html.parser\")\n",
    "tables = soup.find_all(\"table\")\n"
   ]
  },
  {
   "cell_type": "code",
   "execution_count": null,
   "metadata": {},
   "outputs": [],
   "source": [
    "# Assuming we are interested in the first table\n",
    "table = tables[0]\n",
    "\n",
    "# Extract headers\n",
    "headers = [th.text for th in table.find(\"thead\").find_all(\"th\")]\n",
    "headers.remove(\"Rk\")\n",
    "headers[-2] = \"AllPos\"\n",
    "print(headers)\n",
    "# Extract rows\n",
    "rows = []\n",
    "for row in table.find(\"tbody\").find_all(\"tr\"):\n",
    "    if \"class\" not in row.attrs or row.attrs[\"class\"] != [\"thead\"]:\n",
    "        cells = row.find_all(\"td\")\n",
    "        cells = [cell.text.strip() for cell in cells]\n",
    "        rows.append(cells)\n",
    "print(rows)\n",
    "# Create the dataframe using Polars\n",
    "df = pl.DataFrame(rows, schema=headers, orient=\"row\")\n",
    "df = df.rename({\"WAR\": \"bWAR\"})\n",
    "df = df.filter(pl.col(\"OPS+\") != \"\")\n",
    "df = df.with_columns(\n",
    "    [\n",
    "        pl.col(\"Age\").cast(pl.Int32),\n",
    "        pl.col(\"G\").cast(pl.Int32),\n",
    "        pl.col(\"bWAR\").cast(pl.Float32),\n",
    "        pl.col(\"PA\").cast(pl.Int32),\n",
    "        pl.col(\"AB\").cast(pl.Int32),\n",
    "        pl.col(\"R\").cast(pl.Int32),\n",
    "        pl.col(\"H\").cast(pl.Int32),\n",
    "        pl.col(\"2B\").cast(pl.Int32),\n",
    "        pl.col(\"3B\").cast(pl.Int32),\n",
    "        pl.col(\"HR\").cast(pl.Int32),\n",
    "        pl.col(\"RBI\").cast(pl.Int32),\n",
    "        pl.col(\"SB\").cast(pl.Int32),\n",
    "        pl.col(\"CS\").cast(pl.Int32),\n",
    "        pl.col(\"BB\").cast(pl.Int32),\n",
    "        pl.col(\"SO\").cast(pl.Int32),\n",
    "        pl.col(\"BA\").cast(pl.Float32),\n",
    "        pl.col(\"OBP\").cast(pl.Float32),\n",
    "        pl.col(\"SLG\").cast(pl.Float32),\n",
    "        pl.col(\"OPS\").cast(pl.Float32),\n",
    "        pl.col(\"OPS+\").cast(pl.Int32),\n",
    "        pl.col(\"rOBA\").cast(pl.Float32),\n",
    "        pl.col(\"Rbat+\").cast(pl.Int32),\n",
    "        pl.col(\"TB\").cast(pl.Float32),\n",
    "        pl.col(\"GIDP\").cast(pl.Int32),\n",
    "        pl.col(\"HBP\").cast(pl.Int32),\n",
    "        pl.col(\"SH\").cast(pl.Int32),\n",
    "        pl.col(\"SF\").cast(pl.Int32),\n",
    "        pl.col(\"IBB\").cast(pl.Int32),\n",
    "    ]\n",
    ")\n",
    "df\n"
   ]
  }
 ],
 "metadata": {
  "kernelspec": {
   "display_name": ".venv",
   "language": "python",
   "name": "python3"
  },
  "language_info": {
   "codemirror_mode": {
    "name": "ipython",
    "version": 3
   },
   "file_extension": ".py",
   "mimetype": "text/x-python",
   "name": "python",
   "nbconvert_exporter": "python",
   "pygments_lexer": "ipython3",
   "version": "3.13.0"
  }
 },
 "nbformat": 4,
 "nbformat_minor": 2
}
