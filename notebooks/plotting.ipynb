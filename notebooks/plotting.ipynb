{
    "cells": [
        {
            "cell_type": "code",
            "execution_count": null,
            "metadata": {},
            "outputs": [],
            "source": [
                "from functools import partial\n",
                "from pathlib import Path\n",
                "from typing import List, Optional\n",
                "import warnings\n",
                "\n",
                "from matplotlib import axes\n",
                "from matplotlib import patches\n",
                "from matplotlib.offsetbox import OffsetImage, AnnotationBbox\n",
                "import matplotlib.path\n",
                "import matplotlib.pyplot as plt\n",
                "import numpy as np\n",
                "import polars as pl"
            ]
        },
        {
            "cell_type": "code",
            "execution_count": null,
            "metadata": {},
            "outputs": [],
            "source": [
                "from src.pybaseballstats.plotting import plot_stadium"
            ]
        },
        {
            "cell_type": "code",
            "execution_count": null,
            "metadata": {},
            "outputs": [],
            "source": [
                "plot_stadium(\"generic\")"
            ]
        },
        {
            "cell_type": "code",
            "execution_count": null,
            "metadata": {},
            "outputs": [],
            "source": []
        }
    ],
    "metadata": {
        "kernelspec": {
            "display_name": ".venv",
            "language": "python",
            "name": "python3"
        },
        "language_info": {
            "codemirror_mode": {
                "name": "ipython",
                "version": 3
            },
            "file_extension": ".py",
            "mimetype": "text/x-python",
            "name": "python",
            "nbconvert_exporter": "python",
            "pygments_lexer": "ipython3",
            "version": "3.13.0"
        }
    },
    "nbformat": 4,
    "nbformat_minor": 2
}
