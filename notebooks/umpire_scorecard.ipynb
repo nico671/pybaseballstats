{
 "cells": [
  {
   "cell_type": "markdown",
   "metadata": {},
   "source": [
    "# Games Page"
   ]
  },
  {
   "cell_type": "code",
   "execution_count": null,
   "metadata": {},
   "outputs": [],
   "source": [
    "GAMES_URL = \"https://umpscorecards.com/api/games/?&season_type={season_type}&start_date={start_date}&end_date={end_date}&team1={home_team}-h&team2={away_team}-a&umpire={umpire_name}&_=1739743220236\""
   ]
  },
  {
   "cell_type": "markdown",
   "metadata": {},
   "source": [
    "- season_type: P for Postseason, R for Regular Season, * for both\n",
    "- start_date: YYYY-MM-DD\n",
    "- end_date: YYYY-MM-DD\n",
    "- team1: home team (use * for all teams)\n",
    "- team2: away team\n",
    "- umpire_name: umpire name (use \"\" for all umpires)"
   ]
  },
  {
   "cell_type": "code",
   "execution_count": null,
   "metadata": {},
   "outputs": [],
   "source": [
    "season_type = \"*\"\n",
    "start_date = \"2021-07-01\"\n",
    "end_date = \"2021-07-31\"\n",
    "home_team = \"*\"\n",
    "away_team = \"*\"\n",
    "umpire_name = \"\""
   ]
  },
  {
   "cell_type": "code",
   "execution_count": null,
   "metadata": {},
   "outputs": [],
   "source": [
    "import requests\n",
    "import json\n",
    "\n",
    "url = GAMES_URL.format(\n",
    "    season_type=season_type,\n",
    "    start_date=start_date,\n",
    "    end_date=end_date,\n",
    "    home_team=home_team,\n",
    "    away_team=away_team,\n",
    "    umpire_name=umpire_name,\n",
    ")\n",
    "response = requests.get(url)\n",
    "data = response.json()"
   ]
  },
  {
   "cell_type": "code",
   "execution_count": null,
   "metadata": {},
   "outputs": [],
   "source": [
    "data"
   ]
  },
  {
   "cell_type": "code",
   "execution_count": null,
   "metadata": {},
   "outputs": [],
   "source": [
    "import polars as pl"
   ]
  },
  {
   "cell_type": "code",
   "execution_count": null,
   "metadata": {},
   "outputs": [],
   "source": [
    "df = pl.DataFrame(data[\"games\"], infer_schema_length=1000000000)"
   ]
  },
  {
   "cell_type": "code",
   "execution_count": null,
   "metadata": {},
   "outputs": [],
   "source": [
    "df"
   ]
  },
  {
   "cell_type": "markdown",
   "metadata": {},
   "source": [
    "# Umpires"
   ]
  },
  {
   "cell_type": "code",
   "execution_count": null,
   "metadata": {},
   "outputs": [],
   "source": [
    "UMPIRES_URL = \"https://umpscorecards.com/api/umpires/?&season_type={season_type}&start_date={start_date}&end_date={end_date}&team1={home_team}-h&team2={away_team}-a&_=1739746115431\""
   ]
  },
  {
   "cell_type": "markdown",
   "metadata": {},
   "source": [
    "- season_type: P for Postseason, R for Regular Season, * for both\n",
    "- start_date: YYYY-MM-DD\n",
    "- end_date: YYYY-MM-DD\n",
    "- team1: home team (use * for all teams)\n",
    "- team2: away team"
   ]
  },
  {
   "cell_type": "code",
   "execution_count": null,
   "metadata": {},
   "outputs": [],
   "source": [
    "url = UMPIRES_URL.format(\n",
    "    season_type=season_type,\n",
    "    start_date=start_date,\n",
    "    end_date=end_date,\n",
    "    home_team=home_team,\n",
    "    away_team=away_team,\n",
    ")"
   ]
  },
  {
   "cell_type": "code",
   "execution_count": null,
   "metadata": {},
   "outputs": [],
   "source": [
    "data = requests.get(url).json()"
   ]
  },
  {
   "cell_type": "code",
   "execution_count": null,
   "metadata": {},
   "outputs": [],
   "source": [
    "df = pl.DataFrame(data[\"umpires\"], infer_schema_length=1000000000)"
   ]
  },
  {
   "cell_type": "code",
   "execution_count": null,
   "metadata": {},
   "outputs": [],
   "source": [
    "df"
   ]
  },
  {
   "cell_type": "markdown",
   "metadata": {},
   "source": [
    "# Teams"
   ]
  },
  {
   "cell_type": "code",
   "execution_count": null,
   "metadata": {},
   "outputs": [],
   "source": [
    "TEAMS_URL = \"https://umpscorecards.com/api/teams/?&season_type={season_type}&start_date={start_date}&end_date={end_date}&umpire={umpire_name}&team={team}&ha={home_away}&venue={stadium}&_=1739746372270\""
   ]
  },
  {
   "cell_type": "markdown",
   "metadata": {},
   "source": [
    "- start_date: YYYY-MM-DD\n",
    "- end_date: YYYY-MM-DD\n",
    "- team: team name\n",
    "- season_type: P for Postseason, R for Regular Season, * for both\n",
    "- umpire_name: umpire name (use \"\" for all umpires)\n",
    "- home_away: H for home, A for away, * for both\n",
    "- venue: venue name (given by the team)"
   ]
  },
  {
   "cell_type": "code",
   "execution_count": null,
   "metadata": {},
   "outputs": [],
   "source": [
    "url = TEAMS_URL.format(\n",
    "    season_type=season_type,\n",
    "    start_date=start_date,\n",
    "    end_date=end_date,\n",
    "    umpire_name=umpire_name,\n",
    "    team=\"*\",\n",
    "    home_away=\"*\",\n",
    "    stadium=\"*\",\n",
    ")"
   ]
  },
  {
   "cell_type": "code",
   "execution_count": null,
   "metadata": {},
   "outputs": [],
   "source": [
    "data = requests.get(url).json()\n",
    "data"
   ]
  },
  {
   "cell_type": "code",
   "execution_count": null,
   "metadata": {},
   "outputs": [],
   "source": [
    "df = pl.DataFrame(data[\"teams\"], infer_schema_length=1000000000)"
   ]
  },
  {
   "cell_type": "code",
   "execution_count": null,
   "metadata": {},
   "outputs": [],
   "source": [
    "df"
   ]
  }
 ],
 "metadata": {
  "kernelspec": {
   "display_name": ".venv",
   "language": "python",
   "name": "python3"
  },
  "language_info": {
   "codemirror_mode": {
    "name": "ipython",
    "version": 3
   },
   "file_extension": ".py",
   "mimetype": "text/x-python",
   "name": "python",
   "nbconvert_exporter": "python",
   "pygments_lexer": "ipython3",
   "version": "3.13.0"
  }
 },
 "nbformat": 4,
 "nbformat_minor": 2
}
